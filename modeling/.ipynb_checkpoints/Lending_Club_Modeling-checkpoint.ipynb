{
 "cells": [
  {
   "cell_type": "markdown",
   "metadata": {},
   "source": [
    "# Lending Club - Loan Approval Process Optimization"
   ]
  },
  {
   "cell_type": "markdown",
   "metadata": {},
   "source": [
    "# 4. Modeling"
   ]
  },
  {
   "cell_type": "markdown",
   "metadata": {},
   "source": [
    "## 4.1 Imports"
   ]
  },
  {
   "cell_type": "code",
   "execution_count": 1,
   "metadata": {},
   "outputs": [],
   "source": [
    "# Import the libraries necessary for the current task\n",
    "import pandas as pd\n",
    "import numpy as np\n",
    "import matplotlib.pyplot as plt\n",
    "import seaborn as sns\n",
    "import os\n",
    "import pickle\n",
    "from sklearn import __version__ as sklearn_version\n",
    "from imblearn.over_sampling import SMOTE\n",
    "from sklearn.model_selection import (cross_validate, cross_val_score, cross_val_predict, train_test_split, \n",
    "                                     StratifiedKFold, GridSearchCV, RandomizedSearchCV)\n",
    "from sklearn.metrics import roc_auc_score, roc_curve, f1_score, classification_report, confusion_matrix\n",
    "from sklearn.preprocessing import StandardScaler\n",
    "from sklearn.metrics import mean_squared_error\n",
    "import xgboost as xgb\n",
    "from sklearn.linear_model import LogisticRegression\n",
    "from sklearn.ensemble import RandomForestClassifier\n",
    "from sklearn.svm import SVC\n",
    "from xgboost import XGBClassifier\n",
    "\n",
    "# pandas Configuration\n",
    "pd.set_option(\"max_rows\", 120)\n",
    "pd.set_option(\"max_columns\", 120)\n",
    "pd.set_option(\"display.max_colwidth\", None)"
   ]
  },
  {
   "cell_type": "markdown",
   "metadata": {},
   "source": [
    "## 4.2 Data"
   ]
  },
  {
   "cell_type": "markdown",
   "metadata": {},
   "source": [
    "### 4.2.1 Data Loading"
   ]
  },
  {
   "cell_type": "code",
   "execution_count": 2,
   "metadata": {},
   "outputs": [],
   "source": [
    "# Load the CSV data\n",
    "LC_data = pd.read_csv(r\"C:\\Users\\lastr\\Desktop\\GitHub\\Lending_Club_Capstone\\data\\lending_club_loans_preprocessed.csv\")"
   ]
  },
  {
   "cell_type": "markdown",
   "metadata": {},
   "source": [
    "### 4.2.2 Data Conversion"
   ]
  },
  {
   "cell_type": "code",
   "execution_count": 3,
   "metadata": {},
   "outputs": [],
   "source": [
    "# Convert earliest_cr_line, last_credit_pull_d to datetime again\n",
    "LC_data['earliest_cr_line'] = pd.to_datetime(LC_data['earliest_cr_line'])\n",
    "LC_data['last_credit_pull_d'] = pd.to_datetime(LC_data['last_credit_pull_d'])"
   ]
  },
  {
   "cell_type": "code",
   "execution_count": 4,
   "metadata": {},
   "outputs": [],
   "source": [
    "# Convert earliest_cr_line, last_credit_pull_d to ordinal numeric\n",
    "LC_data['earliest_cr_line'] = LC_data['earliest_cr_line'].apply(lambda x: x.toordinal())\n",
    "LC_data['last_credit_pull_d'] = LC_data['last_credit_pull_d'].apply(lambda x: x.toordinal())"
   ]
  },
  {
   "cell_type": "markdown",
   "metadata": {},
   "source": [
    "### 4.2.3 Data Overview"
   ]
  },
  {
   "cell_type": "code",
   "execution_count": 5,
   "metadata": {},
   "outputs": [
    {
     "name": "stdout",
     "output_type": "stream",
     "text": [
      "<class 'pandas.core.frame.DataFrame'>\n",
      "RangeIndex: 39239 entries, 0 to 39238\n",
      "Data columns (total 92 columns):\n",
      " #   Column                               Non-Null Count  Dtype  \n",
      "---  ------                               --------------  -----  \n",
      " 0   loan_amnt                            39239 non-null  float64\n",
      " 1   installment                          39239 non-null  float64\n",
      " 2   grade                                39239 non-null  int64  \n",
      " 3   emp_length                           39239 non-null  int64  \n",
      " 4   annual_inc                           39239 non-null  float64\n",
      " 5   loan_type                            39239 non-null  int64  \n",
      " 6   dti                                  39239 non-null  float64\n",
      " 7   delinq_2yrs                          39239 non-null  float64\n",
      " 8   earliest_cr_line                     39239 non-null  int64  \n",
      " 9   inq_last_6mths                       39239 non-null  float64\n",
      " 10  open_acc                             39239 non-null  float64\n",
      " 11  pub_rec                              39239 non-null  float64\n",
      " 12  revol_bal                            39239 non-null  float64\n",
      " 13  revol_util                           39239 non-null  float64\n",
      " 14  total_acc                            39239 non-null  float64\n",
      " 15  last_credit_pull_d                   39239 non-null  int64  \n",
      " 16  pub_rec_bankruptcies                 39239 non-null  float64\n",
      " 17  fico_range_avg                       39239 non-null  float64\n",
      " 18  term_ 36 months                      39239 non-null  int64  \n",
      " 19  term_ 60 months                      39239 non-null  int64  \n",
      " 20  home_ownership_MORTGAGE              39239 non-null  int64  \n",
      " 21  home_ownership_NONE                  39239 non-null  int64  \n",
      " 22  home_ownership_OTHER                 39239 non-null  int64  \n",
      " 23  home_ownership_OWN                   39239 non-null  int64  \n",
      " 24  home_ownership_RENT                  39239 non-null  int64  \n",
      " 25  verification_status_Not Verified     39239 non-null  int64  \n",
      " 26  verification_status_Source Verified  39239 non-null  int64  \n",
      " 27  verification_status_Verified         39239 non-null  int64  \n",
      " 28  purpose_car                          39239 non-null  int64  \n",
      " 29  purpose_credit_card                  39239 non-null  int64  \n",
      " 30  purpose_debt_consolidation           39239 non-null  int64  \n",
      " 31  purpose_educational                  39239 non-null  int64  \n",
      " 32  purpose_home_improvement             39239 non-null  int64  \n",
      " 33  purpose_house                        39239 non-null  int64  \n",
      " 34  purpose_major_purchase               39239 non-null  int64  \n",
      " 35  purpose_medical                      39239 non-null  int64  \n",
      " 36  purpose_moving                       39239 non-null  int64  \n",
      " 37  purpose_other                        39239 non-null  int64  \n",
      " 38  purpose_renewable_energy             39239 non-null  int64  \n",
      " 39  purpose_small_business               39239 non-null  int64  \n",
      " 40  purpose_vacation                     39239 non-null  int64  \n",
      " 41  purpose_wedding                      39239 non-null  int64  \n",
      " 42  addr_state_AK                        39239 non-null  int64  \n",
      " 43  addr_state_AL                        39239 non-null  int64  \n",
      " 44  addr_state_AR                        39239 non-null  int64  \n",
      " 45  addr_state_AZ                        39239 non-null  int64  \n",
      " 46  addr_state_CA                        39239 non-null  int64  \n",
      " 47  addr_state_CO                        39239 non-null  int64  \n",
      " 48  addr_state_CT                        39239 non-null  int64  \n",
      " 49  addr_state_DC                        39239 non-null  int64  \n",
      " 50  addr_state_DE                        39239 non-null  int64  \n",
      " 51  addr_state_FL                        39239 non-null  int64  \n",
      " 52  addr_state_GA                        39239 non-null  int64  \n",
      " 53  addr_state_HI                        39239 non-null  int64  \n",
      " 54  addr_state_IA                        39239 non-null  int64  \n",
      " 55  addr_state_ID                        39239 non-null  int64  \n",
      " 56  addr_state_IL                        39239 non-null  int64  \n",
      " 57  addr_state_IN                        39239 non-null  int64  \n",
      " 58  addr_state_KS                        39239 non-null  int64  \n",
      " 59  addr_state_KY                        39239 non-null  int64  \n",
      " 60  addr_state_LA                        39239 non-null  int64  \n",
      " 61  addr_state_MA                        39239 non-null  int64  \n",
      " 62  addr_state_MD                        39239 non-null  int64  \n",
      " 63  addr_state_ME                        39239 non-null  int64  \n",
      " 64  addr_state_MI                        39239 non-null  int64  \n",
      " 65  addr_state_MN                        39239 non-null  int64  \n",
      " 66  addr_state_MO                        39239 non-null  int64  \n",
      " 67  addr_state_MS                        39239 non-null  int64  \n",
      " 68  addr_state_MT                        39239 non-null  int64  \n",
      " 69  addr_state_NC                        39239 non-null  int64  \n",
      " 70  addr_state_NE                        39239 non-null  int64  \n",
      " 71  addr_state_NH                        39239 non-null  int64  \n",
      " 72  addr_state_NJ                        39239 non-null  int64  \n",
      " 73  addr_state_NM                        39239 non-null  int64  \n",
      " 74  addr_state_NV                        39239 non-null  int64  \n",
      " 75  addr_state_NY                        39239 non-null  int64  \n",
      " 76  addr_state_OH                        39239 non-null  int64  \n",
      " 77  addr_state_OK                        39239 non-null  int64  \n",
      " 78  addr_state_OR                        39239 non-null  int64  \n",
      " 79  addr_state_PA                        39239 non-null  int64  \n",
      " 80  addr_state_RI                        39239 non-null  int64  \n",
      " 81  addr_state_SC                        39239 non-null  int64  \n",
      " 82  addr_state_SD                        39239 non-null  int64  \n",
      " 83  addr_state_TN                        39239 non-null  int64  \n",
      " 84  addr_state_TX                        39239 non-null  int64  \n",
      " 85  addr_state_UT                        39239 non-null  int64  \n",
      " 86  addr_state_VA                        39239 non-null  int64  \n",
      " 87  addr_state_VT                        39239 non-null  int64  \n",
      " 88  addr_state_WA                        39239 non-null  int64  \n",
      " 89  addr_state_WI                        39239 non-null  int64  \n",
      " 90  addr_state_WV                        39239 non-null  int64  \n",
      " 91  addr_state_WY                        39239 non-null  int64  \n",
      "dtypes: float64(13), int64(79)\n",
      "memory usage: 27.5 MB\n"
     ]
    }
   ],
   "source": [
    "# Summary of the data\n",
    "LC_data.info()"
   ]
  },
  {
   "cell_type": "code",
   "execution_count": 6,
   "metadata": {},
   "outputs": [
    {
     "data": {
      "text/html": [
       "<div>\n",
       "<style scoped>\n",
       "    .dataframe tbody tr th:only-of-type {\n",
       "        vertical-align: middle;\n",
       "    }\n",
       "\n",
       "    .dataframe tbody tr th {\n",
       "        vertical-align: top;\n",
       "    }\n",
       "\n",
       "    .dataframe thead th {\n",
       "        text-align: right;\n",
       "    }\n",
       "</style>\n",
       "<table border=\"1\" class=\"dataframe\">\n",
       "  <thead>\n",
       "    <tr style=\"text-align: right;\">\n",
       "      <th></th>\n",
       "      <th>loan_amnt</th>\n",
       "      <th>installment</th>\n",
       "      <th>grade</th>\n",
       "      <th>emp_length</th>\n",
       "      <th>annual_inc</th>\n",
       "      <th>loan_type</th>\n",
       "      <th>dti</th>\n",
       "      <th>delinq_2yrs</th>\n",
       "      <th>earliest_cr_line</th>\n",
       "      <th>inq_last_6mths</th>\n",
       "      <th>open_acc</th>\n",
       "      <th>pub_rec</th>\n",
       "      <th>revol_bal</th>\n",
       "      <th>revol_util</th>\n",
       "      <th>total_acc</th>\n",
       "      <th>last_credit_pull_d</th>\n",
       "      <th>pub_rec_bankruptcies</th>\n",
       "      <th>fico_range_avg</th>\n",
       "      <th>term_ 36 months</th>\n",
       "      <th>term_ 60 months</th>\n",
       "      <th>home_ownership_MORTGAGE</th>\n",
       "      <th>home_ownership_NONE</th>\n",
       "      <th>home_ownership_OTHER</th>\n",
       "      <th>home_ownership_OWN</th>\n",
       "      <th>home_ownership_RENT</th>\n",
       "      <th>verification_status_Not Verified</th>\n",
       "      <th>verification_status_Source Verified</th>\n",
       "      <th>verification_status_Verified</th>\n",
       "      <th>purpose_car</th>\n",
       "      <th>purpose_credit_card</th>\n",
       "      <th>purpose_debt_consolidation</th>\n",
       "      <th>purpose_educational</th>\n",
       "      <th>purpose_home_improvement</th>\n",
       "      <th>purpose_house</th>\n",
       "      <th>purpose_major_purchase</th>\n",
       "      <th>purpose_medical</th>\n",
       "      <th>purpose_moving</th>\n",
       "      <th>purpose_other</th>\n",
       "      <th>purpose_renewable_energy</th>\n",
       "      <th>purpose_small_business</th>\n",
       "      <th>purpose_vacation</th>\n",
       "      <th>purpose_wedding</th>\n",
       "      <th>addr_state_AK</th>\n",
       "      <th>addr_state_AL</th>\n",
       "      <th>addr_state_AR</th>\n",
       "      <th>addr_state_AZ</th>\n",
       "      <th>addr_state_CA</th>\n",
       "      <th>addr_state_CO</th>\n",
       "      <th>addr_state_CT</th>\n",
       "      <th>addr_state_DC</th>\n",
       "      <th>addr_state_DE</th>\n",
       "      <th>addr_state_FL</th>\n",
       "      <th>addr_state_GA</th>\n",
       "      <th>addr_state_HI</th>\n",
       "      <th>addr_state_IA</th>\n",
       "      <th>addr_state_ID</th>\n",
       "      <th>addr_state_IL</th>\n",
       "      <th>addr_state_IN</th>\n",
       "      <th>addr_state_KS</th>\n",
       "      <th>addr_state_KY</th>\n",
       "      <th>addr_state_LA</th>\n",
       "      <th>addr_state_MA</th>\n",
       "      <th>addr_state_MD</th>\n",
       "      <th>addr_state_ME</th>\n",
       "      <th>addr_state_MI</th>\n",
       "      <th>addr_state_MN</th>\n",
       "      <th>addr_state_MO</th>\n",
       "      <th>addr_state_MS</th>\n",
       "      <th>addr_state_MT</th>\n",
       "      <th>addr_state_NC</th>\n",
       "      <th>addr_state_NE</th>\n",
       "      <th>addr_state_NH</th>\n",
       "      <th>addr_state_NJ</th>\n",
       "      <th>addr_state_NM</th>\n",
       "      <th>addr_state_NV</th>\n",
       "      <th>addr_state_NY</th>\n",
       "      <th>addr_state_OH</th>\n",
       "      <th>addr_state_OK</th>\n",
       "      <th>addr_state_OR</th>\n",
       "      <th>addr_state_PA</th>\n",
       "      <th>addr_state_RI</th>\n",
       "      <th>addr_state_SC</th>\n",
       "      <th>addr_state_SD</th>\n",
       "      <th>addr_state_TN</th>\n",
       "      <th>addr_state_TX</th>\n",
       "      <th>addr_state_UT</th>\n",
       "      <th>addr_state_VA</th>\n",
       "      <th>addr_state_VT</th>\n",
       "      <th>addr_state_WA</th>\n",
       "      <th>addr_state_WI</th>\n",
       "      <th>addr_state_WV</th>\n",
       "      <th>addr_state_WY</th>\n",
       "    </tr>\n",
       "  </thead>\n",
       "  <tbody>\n",
       "    <tr>\n",
       "      <th>0</th>\n",
       "      <td>5000.0</td>\n",
       "      <td>162.87</td>\n",
       "      <td>1</td>\n",
       "      <td>10</td>\n",
       "      <td>24000.0</td>\n",
       "      <td>1</td>\n",
       "      <td>27.65</td>\n",
       "      <td>0.0</td>\n",
       "      <td>724642</td>\n",
       "      <td>1.0</td>\n",
       "      <td>3.0</td>\n",
       "      <td>0.0</td>\n",
       "      <td>13648.0</td>\n",
       "      <td>83.7</td>\n",
       "      <td>9.0</td>\n",
       "      <td>736208</td>\n",
       "      <td>0.0</td>\n",
       "      <td>737.0</td>\n",
       "      <td>1</td>\n",
       "      <td>0</td>\n",
       "      <td>0</td>\n",
       "      <td>0</td>\n",
       "      <td>0</td>\n",
       "      <td>0</td>\n",
       "      <td>1</td>\n",
       "      <td>0</td>\n",
       "      <td>0</td>\n",
       "      <td>1</td>\n",
       "      <td>0</td>\n",
       "      <td>1</td>\n",
       "      <td>0</td>\n",
       "      <td>0</td>\n",
       "      <td>0</td>\n",
       "      <td>0</td>\n",
       "      <td>0</td>\n",
       "      <td>0</td>\n",
       "      <td>0</td>\n",
       "      <td>0</td>\n",
       "      <td>0</td>\n",
       "      <td>0</td>\n",
       "      <td>0</td>\n",
       "      <td>0</td>\n",
       "      <td>0</td>\n",
       "      <td>0</td>\n",
       "      <td>0</td>\n",
       "      <td>1</td>\n",
       "      <td>0</td>\n",
       "      <td>0</td>\n",
       "      <td>0</td>\n",
       "      <td>0</td>\n",
       "      <td>0</td>\n",
       "      <td>0</td>\n",
       "      <td>0</td>\n",
       "      <td>0</td>\n",
       "      <td>0</td>\n",
       "      <td>0</td>\n",
       "      <td>0</td>\n",
       "      <td>0</td>\n",
       "      <td>0</td>\n",
       "      <td>0</td>\n",
       "      <td>0</td>\n",
       "      <td>0</td>\n",
       "      <td>0</td>\n",
       "      <td>0</td>\n",
       "      <td>0</td>\n",
       "      <td>0</td>\n",
       "      <td>0</td>\n",
       "      <td>0</td>\n",
       "      <td>0</td>\n",
       "      <td>0</td>\n",
       "      <td>0</td>\n",
       "      <td>0</td>\n",
       "      <td>0</td>\n",
       "      <td>0</td>\n",
       "      <td>0</td>\n",
       "      <td>0</td>\n",
       "      <td>0</td>\n",
       "      <td>0</td>\n",
       "      <td>0</td>\n",
       "      <td>0</td>\n",
       "      <td>0</td>\n",
       "      <td>0</td>\n",
       "      <td>0</td>\n",
       "      <td>0</td>\n",
       "      <td>0</td>\n",
       "      <td>0</td>\n",
       "      <td>0</td>\n",
       "      <td>0</td>\n",
       "      <td>0</td>\n",
       "      <td>0</td>\n",
       "      <td>0</td>\n",
       "      <td>0</td>\n",
       "    </tr>\n",
       "    <tr>\n",
       "      <th>1</th>\n",
       "      <td>2500.0</td>\n",
       "      <td>59.83</td>\n",
       "      <td>2</td>\n",
       "      <td>0</td>\n",
       "      <td>30000.0</td>\n",
       "      <td>0</td>\n",
       "      <td>1.00</td>\n",
       "      <td>0.0</td>\n",
       "      <td>729845</td>\n",
       "      <td>5.0</td>\n",
       "      <td>3.0</td>\n",
       "      <td>0.0</td>\n",
       "      <td>1687.0</td>\n",
       "      <td>9.4</td>\n",
       "      <td>4.0</td>\n",
       "      <td>736208</td>\n",
       "      <td>0.0</td>\n",
       "      <td>742.0</td>\n",
       "      <td>0</td>\n",
       "      <td>1</td>\n",
       "      <td>0</td>\n",
       "      <td>0</td>\n",
       "      <td>0</td>\n",
       "      <td>0</td>\n",
       "      <td>1</td>\n",
       "      <td>0</td>\n",
       "      <td>1</td>\n",
       "      <td>0</td>\n",
       "      <td>1</td>\n",
       "      <td>0</td>\n",
       "      <td>0</td>\n",
       "      <td>0</td>\n",
       "      <td>0</td>\n",
       "      <td>0</td>\n",
       "      <td>0</td>\n",
       "      <td>0</td>\n",
       "      <td>0</td>\n",
       "      <td>0</td>\n",
       "      <td>0</td>\n",
       "      <td>0</td>\n",
       "      <td>0</td>\n",
       "      <td>0</td>\n",
       "      <td>0</td>\n",
       "      <td>0</td>\n",
       "      <td>0</td>\n",
       "      <td>0</td>\n",
       "      <td>0</td>\n",
       "      <td>0</td>\n",
       "      <td>0</td>\n",
       "      <td>0</td>\n",
       "      <td>0</td>\n",
       "      <td>0</td>\n",
       "      <td>1</td>\n",
       "      <td>0</td>\n",
       "      <td>0</td>\n",
       "      <td>0</td>\n",
       "      <td>0</td>\n",
       "      <td>0</td>\n",
       "      <td>0</td>\n",
       "      <td>0</td>\n",
       "      <td>0</td>\n",
       "      <td>0</td>\n",
       "      <td>0</td>\n",
       "      <td>0</td>\n",
       "      <td>0</td>\n",
       "      <td>0</td>\n",
       "      <td>0</td>\n",
       "      <td>0</td>\n",
       "      <td>0</td>\n",
       "      <td>0</td>\n",
       "      <td>0</td>\n",
       "      <td>0</td>\n",
       "      <td>0</td>\n",
       "      <td>0</td>\n",
       "      <td>0</td>\n",
       "      <td>0</td>\n",
       "      <td>0</td>\n",
       "      <td>0</td>\n",
       "      <td>0</td>\n",
       "      <td>0</td>\n",
       "      <td>0</td>\n",
       "      <td>0</td>\n",
       "      <td>0</td>\n",
       "      <td>0</td>\n",
       "      <td>0</td>\n",
       "      <td>0</td>\n",
       "      <td>0</td>\n",
       "      <td>0</td>\n",
       "      <td>0</td>\n",
       "      <td>0</td>\n",
       "      <td>0</td>\n",
       "      <td>0</td>\n",
       "    </tr>\n",
       "    <tr>\n",
       "      <th>2</th>\n",
       "      <td>2400.0</td>\n",
       "      <td>84.33</td>\n",
       "      <td>2</td>\n",
       "      <td>10</td>\n",
       "      <td>12252.0</td>\n",
       "      <td>1</td>\n",
       "      <td>8.72</td>\n",
       "      <td>0.0</td>\n",
       "      <td>730790</td>\n",
       "      <td>2.0</td>\n",
       "      <td>2.0</td>\n",
       "      <td>0.0</td>\n",
       "      <td>2956.0</td>\n",
       "      <td>98.5</td>\n",
       "      <td>10.0</td>\n",
       "      <td>736208</td>\n",
       "      <td>0.0</td>\n",
       "      <td>737.0</td>\n",
       "      <td>1</td>\n",
       "      <td>0</td>\n",
       "      <td>0</td>\n",
       "      <td>0</td>\n",
       "      <td>0</td>\n",
       "      <td>0</td>\n",
       "      <td>1</td>\n",
       "      <td>1</td>\n",
       "      <td>0</td>\n",
       "      <td>0</td>\n",
       "      <td>0</td>\n",
       "      <td>0</td>\n",
       "      <td>0</td>\n",
       "      <td>0</td>\n",
       "      <td>0</td>\n",
       "      <td>0</td>\n",
       "      <td>0</td>\n",
       "      <td>0</td>\n",
       "      <td>0</td>\n",
       "      <td>0</td>\n",
       "      <td>0</td>\n",
       "      <td>1</td>\n",
       "      <td>0</td>\n",
       "      <td>0</td>\n",
       "      <td>0</td>\n",
       "      <td>0</td>\n",
       "      <td>0</td>\n",
       "      <td>0</td>\n",
       "      <td>0</td>\n",
       "      <td>0</td>\n",
       "      <td>0</td>\n",
       "      <td>0</td>\n",
       "      <td>0</td>\n",
       "      <td>0</td>\n",
       "      <td>0</td>\n",
       "      <td>0</td>\n",
       "      <td>0</td>\n",
       "      <td>0</td>\n",
       "      <td>1</td>\n",
       "      <td>0</td>\n",
       "      <td>0</td>\n",
       "      <td>0</td>\n",
       "      <td>0</td>\n",
       "      <td>0</td>\n",
       "      <td>0</td>\n",
       "      <td>0</td>\n",
       "      <td>0</td>\n",
       "      <td>0</td>\n",
       "      <td>0</td>\n",
       "      <td>0</td>\n",
       "      <td>0</td>\n",
       "      <td>0</td>\n",
       "      <td>0</td>\n",
       "      <td>0</td>\n",
       "      <td>0</td>\n",
       "      <td>0</td>\n",
       "      <td>0</td>\n",
       "      <td>0</td>\n",
       "      <td>0</td>\n",
       "      <td>0</td>\n",
       "      <td>0</td>\n",
       "      <td>0</td>\n",
       "      <td>0</td>\n",
       "      <td>0</td>\n",
       "      <td>0</td>\n",
       "      <td>0</td>\n",
       "      <td>0</td>\n",
       "      <td>0</td>\n",
       "      <td>0</td>\n",
       "      <td>0</td>\n",
       "      <td>0</td>\n",
       "      <td>0</td>\n",
       "      <td>0</td>\n",
       "      <td>0</td>\n",
       "    </tr>\n",
       "    <tr>\n",
       "      <th>3</th>\n",
       "      <td>10000.0</td>\n",
       "      <td>339.31</td>\n",
       "      <td>2</td>\n",
       "      <td>10</td>\n",
       "      <td>49200.0</td>\n",
       "      <td>1</td>\n",
       "      <td>20.00</td>\n",
       "      <td>0.0</td>\n",
       "      <td>728690</td>\n",
       "      <td>1.0</td>\n",
       "      <td>10.0</td>\n",
       "      <td>0.0</td>\n",
       "      <td>5598.0</td>\n",
       "      <td>21.0</td>\n",
       "      <td>37.0</td>\n",
       "      <td>736055</td>\n",
       "      <td>0.0</td>\n",
       "      <td>692.0</td>\n",
       "      <td>1</td>\n",
       "      <td>0</td>\n",
       "      <td>0</td>\n",
       "      <td>0</td>\n",
       "      <td>0</td>\n",
       "      <td>0</td>\n",
       "      <td>1</td>\n",
       "      <td>0</td>\n",
       "      <td>1</td>\n",
       "      <td>0</td>\n",
       "      <td>0</td>\n",
       "      <td>0</td>\n",
       "      <td>0</td>\n",
       "      <td>0</td>\n",
       "      <td>0</td>\n",
       "      <td>0</td>\n",
       "      <td>0</td>\n",
       "      <td>0</td>\n",
       "      <td>0</td>\n",
       "      <td>1</td>\n",
       "      <td>0</td>\n",
       "      <td>0</td>\n",
       "      <td>0</td>\n",
       "      <td>0</td>\n",
       "      <td>0</td>\n",
       "      <td>0</td>\n",
       "      <td>0</td>\n",
       "      <td>0</td>\n",
       "      <td>1</td>\n",
       "      <td>0</td>\n",
       "      <td>0</td>\n",
       "      <td>0</td>\n",
       "      <td>0</td>\n",
       "      <td>0</td>\n",
       "      <td>0</td>\n",
       "      <td>0</td>\n",
       "      <td>0</td>\n",
       "      <td>0</td>\n",
       "      <td>0</td>\n",
       "      <td>0</td>\n",
       "      <td>0</td>\n",
       "      <td>0</td>\n",
       "      <td>0</td>\n",
       "      <td>0</td>\n",
       "      <td>0</td>\n",
       "      <td>0</td>\n",
       "      <td>0</td>\n",
       "      <td>0</td>\n",
       "      <td>0</td>\n",
       "      <td>0</td>\n",
       "      <td>0</td>\n",
       "      <td>0</td>\n",
       "      <td>0</td>\n",
       "      <td>0</td>\n",
       "      <td>0</td>\n",
       "      <td>0</td>\n",
       "      <td>0</td>\n",
       "      <td>0</td>\n",
       "      <td>0</td>\n",
       "      <td>0</td>\n",
       "      <td>0</td>\n",
       "      <td>0</td>\n",
       "      <td>0</td>\n",
       "      <td>0</td>\n",
       "      <td>0</td>\n",
       "      <td>0</td>\n",
       "      <td>0</td>\n",
       "      <td>0</td>\n",
       "      <td>0</td>\n",
       "      <td>0</td>\n",
       "      <td>0</td>\n",
       "      <td>0</td>\n",
       "      <td>0</td>\n",
       "      <td>0</td>\n",
       "    </tr>\n",
       "    <tr>\n",
       "      <th>4</th>\n",
       "      <td>5000.0</td>\n",
       "      <td>156.46</td>\n",
       "      <td>0</td>\n",
       "      <td>3</td>\n",
       "      <td>36000.0</td>\n",
       "      <td>1</td>\n",
       "      <td>11.20</td>\n",
       "      <td>0.0</td>\n",
       "      <td>731886</td>\n",
       "      <td>3.0</td>\n",
       "      <td>9.0</td>\n",
       "      <td>0.0</td>\n",
       "      <td>7963.0</td>\n",
       "      <td>28.3</td>\n",
       "      <td>12.0</td>\n",
       "      <td>735964</td>\n",
       "      <td>0.0</td>\n",
       "      <td>732.0</td>\n",
       "      <td>1</td>\n",
       "      <td>0</td>\n",
       "      <td>0</td>\n",
       "      <td>0</td>\n",
       "      <td>0</td>\n",
       "      <td>0</td>\n",
       "      <td>1</td>\n",
       "      <td>0</td>\n",
       "      <td>1</td>\n",
       "      <td>0</td>\n",
       "      <td>0</td>\n",
       "      <td>0</td>\n",
       "      <td>0</td>\n",
       "      <td>0</td>\n",
       "      <td>0</td>\n",
       "      <td>0</td>\n",
       "      <td>0</td>\n",
       "      <td>0</td>\n",
       "      <td>0</td>\n",
       "      <td>0</td>\n",
       "      <td>0</td>\n",
       "      <td>0</td>\n",
       "      <td>0</td>\n",
       "      <td>1</td>\n",
       "      <td>0</td>\n",
       "      <td>0</td>\n",
       "      <td>0</td>\n",
       "      <td>1</td>\n",
       "      <td>0</td>\n",
       "      <td>0</td>\n",
       "      <td>0</td>\n",
       "      <td>0</td>\n",
       "      <td>0</td>\n",
       "      <td>0</td>\n",
       "      <td>0</td>\n",
       "      <td>0</td>\n",
       "      <td>0</td>\n",
       "      <td>0</td>\n",
       "      <td>0</td>\n",
       "      <td>0</td>\n",
       "      <td>0</td>\n",
       "      <td>0</td>\n",
       "      <td>0</td>\n",
       "      <td>0</td>\n",
       "      <td>0</td>\n",
       "      <td>0</td>\n",
       "      <td>0</td>\n",
       "      <td>0</td>\n",
       "      <td>0</td>\n",
       "      <td>0</td>\n",
       "      <td>0</td>\n",
       "      <td>0</td>\n",
       "      <td>0</td>\n",
       "      <td>0</td>\n",
       "      <td>0</td>\n",
       "      <td>0</td>\n",
       "      <td>0</td>\n",
       "      <td>0</td>\n",
       "      <td>0</td>\n",
       "      <td>0</td>\n",
       "      <td>0</td>\n",
       "      <td>0</td>\n",
       "      <td>0</td>\n",
       "      <td>0</td>\n",
       "      <td>0</td>\n",
       "      <td>0</td>\n",
       "      <td>0</td>\n",
       "      <td>0</td>\n",
       "      <td>0</td>\n",
       "      <td>0</td>\n",
       "      <td>0</td>\n",
       "      <td>0</td>\n",
       "      <td>0</td>\n",
       "      <td>0</td>\n",
       "    </tr>\n",
       "  </tbody>\n",
       "</table>\n",
       "</div>"
      ],
      "text/plain": [
       "   loan_amnt  installment  grade  emp_length  annual_inc  loan_type    dti  \\\n",
       "0     5000.0       162.87      1          10     24000.0          1  27.65   \n",
       "1     2500.0        59.83      2           0     30000.0          0   1.00   \n",
       "2     2400.0        84.33      2          10     12252.0          1   8.72   \n",
       "3    10000.0       339.31      2          10     49200.0          1  20.00   \n",
       "4     5000.0       156.46      0           3     36000.0          1  11.20   \n",
       "\n",
       "   delinq_2yrs  earliest_cr_line  inq_last_6mths  open_acc  pub_rec  \\\n",
       "0          0.0            724642             1.0       3.0      0.0   \n",
       "1          0.0            729845             5.0       3.0      0.0   \n",
       "2          0.0            730790             2.0       2.0      0.0   \n",
       "3          0.0            728690             1.0      10.0      0.0   \n",
       "4          0.0            731886             3.0       9.0      0.0   \n",
       "\n",
       "   revol_bal  revol_util  total_acc  last_credit_pull_d  pub_rec_bankruptcies  \\\n",
       "0    13648.0        83.7        9.0              736208                   0.0   \n",
       "1     1687.0         9.4        4.0              736208                   0.0   \n",
       "2     2956.0        98.5       10.0              736208                   0.0   \n",
       "3     5598.0        21.0       37.0              736055                   0.0   \n",
       "4     7963.0        28.3       12.0              735964                   0.0   \n",
       "\n",
       "   fico_range_avg  term_ 36 months  term_ 60 months  home_ownership_MORTGAGE  \\\n",
       "0           737.0                1                0                        0   \n",
       "1           742.0                0                1                        0   \n",
       "2           737.0                1                0                        0   \n",
       "3           692.0                1                0                        0   \n",
       "4           732.0                1                0                        0   \n",
       "\n",
       "   home_ownership_NONE  home_ownership_OTHER  home_ownership_OWN  \\\n",
       "0                    0                     0                   0   \n",
       "1                    0                     0                   0   \n",
       "2                    0                     0                   0   \n",
       "3                    0                     0                   0   \n",
       "4                    0                     0                   0   \n",
       "\n",
       "   home_ownership_RENT  verification_status_Not Verified  \\\n",
       "0                    1                                 0   \n",
       "1                    1                                 0   \n",
       "2                    1                                 1   \n",
       "3                    1                                 0   \n",
       "4                    1                                 0   \n",
       "\n",
       "   verification_status_Source Verified  verification_status_Verified  \\\n",
       "0                                    0                             1   \n",
       "1                                    1                             0   \n",
       "2                                    0                             0   \n",
       "3                                    1                             0   \n",
       "4                                    1                             0   \n",
       "\n",
       "   purpose_car  purpose_credit_card  purpose_debt_consolidation  \\\n",
       "0            0                    1                           0   \n",
       "1            1                    0                           0   \n",
       "2            0                    0                           0   \n",
       "3            0                    0                           0   \n",
       "4            0                    0                           0   \n",
       "\n",
       "   purpose_educational  purpose_home_improvement  purpose_house  \\\n",
       "0                    0                         0              0   \n",
       "1                    0                         0              0   \n",
       "2                    0                         0              0   \n",
       "3                    0                         0              0   \n",
       "4                    0                         0              0   \n",
       "\n",
       "   purpose_major_purchase  purpose_medical  purpose_moving  purpose_other  \\\n",
       "0                       0                0               0              0   \n",
       "1                       0                0               0              0   \n",
       "2                       0                0               0              0   \n",
       "3                       0                0               0              1   \n",
       "4                       0                0               0              0   \n",
       "\n",
       "   purpose_renewable_energy  purpose_small_business  purpose_vacation  \\\n",
       "0                         0                       0                 0   \n",
       "1                         0                       0                 0   \n",
       "2                         0                       1                 0   \n",
       "3                         0                       0                 0   \n",
       "4                         0                       0                 0   \n",
       "\n",
       "   purpose_wedding  addr_state_AK  addr_state_AL  addr_state_AR  \\\n",
       "0                0              0              0              0   \n",
       "1                0              0              0              0   \n",
       "2                0              0              0              0   \n",
       "3                0              0              0              0   \n",
       "4                1              0              0              0   \n",
       "\n",
       "   addr_state_AZ  addr_state_CA  addr_state_CO  addr_state_CT  addr_state_DC  \\\n",
       "0              1              0              0              0              0   \n",
       "1              0              0              0              0              0   \n",
       "2              0              0              0              0              0   \n",
       "3              0              1              0              0              0   \n",
       "4              1              0              0              0              0   \n",
       "\n",
       "   addr_state_DE  addr_state_FL  addr_state_GA  addr_state_HI  addr_state_IA  \\\n",
       "0              0              0              0              0              0   \n",
       "1              0              0              1              0              0   \n",
       "2              0              0              0              0              0   \n",
       "3              0              0              0              0              0   \n",
       "4              0              0              0              0              0   \n",
       "\n",
       "   addr_state_ID  addr_state_IL  addr_state_IN  addr_state_KS  addr_state_KY  \\\n",
       "0              0              0              0              0              0   \n",
       "1              0              0              0              0              0   \n",
       "2              0              1              0              0              0   \n",
       "3              0              0              0              0              0   \n",
       "4              0              0              0              0              0   \n",
       "\n",
       "   addr_state_LA  addr_state_MA  addr_state_MD  addr_state_ME  addr_state_MI  \\\n",
       "0              0              0              0              0              0   \n",
       "1              0              0              0              0              0   \n",
       "2              0              0              0              0              0   \n",
       "3              0              0              0              0              0   \n",
       "4              0              0              0              0              0   \n",
       "\n",
       "   addr_state_MN  addr_state_MO  addr_state_MS  addr_state_MT  addr_state_NC  \\\n",
       "0              0              0              0              0              0   \n",
       "1              0              0              0              0              0   \n",
       "2              0              0              0              0              0   \n",
       "3              0              0              0              0              0   \n",
       "4              0              0              0              0              0   \n",
       "\n",
       "   addr_state_NE  addr_state_NH  addr_state_NJ  addr_state_NM  addr_state_NV  \\\n",
       "0              0              0              0              0              0   \n",
       "1              0              0              0              0              0   \n",
       "2              0              0              0              0              0   \n",
       "3              0              0              0              0              0   \n",
       "4              0              0              0              0              0   \n",
       "\n",
       "   addr_state_NY  addr_state_OH  addr_state_OK  addr_state_OR  addr_state_PA  \\\n",
       "0              0              0              0              0              0   \n",
       "1              0              0              0              0              0   \n",
       "2              0              0              0              0              0   \n",
       "3              0              0              0              0              0   \n",
       "4              0              0              0              0              0   \n",
       "\n",
       "   addr_state_RI  addr_state_SC  addr_state_SD  addr_state_TN  addr_state_TX  \\\n",
       "0              0              0              0              0              0   \n",
       "1              0              0              0              0              0   \n",
       "2              0              0              0              0              0   \n",
       "3              0              0              0              0              0   \n",
       "4              0              0              0              0              0   \n",
       "\n",
       "   addr_state_UT  addr_state_VA  addr_state_VT  addr_state_WA  addr_state_WI  \\\n",
       "0              0              0              0              0              0   \n",
       "1              0              0              0              0              0   \n",
       "2              0              0              0              0              0   \n",
       "3              0              0              0              0              0   \n",
       "4              0              0              0              0              0   \n",
       "\n",
       "   addr_state_WV  addr_state_WY  \n",
       "0              0              0  \n",
       "1              0              0  \n",
       "2              0              0  \n",
       "3              0              0  \n",
       "4              0              0  "
      ]
     },
     "execution_count": 6,
     "metadata": {},
     "output_type": "execute_result"
    }
   ],
   "source": [
    "# First 5 entries of the data\n",
    "LC_data.head()"
   ]
  },
  {
   "cell_type": "code",
   "execution_count": 7,
   "metadata": {},
   "outputs": [
    {
     "data": {
      "text/plain": [
       "1    33586\n",
       "0     5653\n",
       "Name: loan_type, dtype: int64"
      ]
     },
     "execution_count": 7,
     "metadata": {},
     "output_type": "execute_result"
    }
   ],
   "source": [
    "# Check the data label for balance\n",
    "LC_data[\"loan_type\"].value_counts()"
   ]
  },
  {
   "cell_type": "markdown",
   "metadata": {},
   "source": [
    "The current data set is highly imbalanced, hence the balance issue should be addressed prior to modeling."
   ]
  },
  {
   "cell_type": "markdown",
   "metadata": {},
   "source": [
    "## 4.3 Preparation for Modeling"
   ]
  },
  {
   "cell_type": "markdown",
   "metadata": {},
   "source": [
    "### 4.3.1 Training Test Split"
   ]
  },
  {
   "cell_type": "code",
   "execution_count": 8,
   "metadata": {},
   "outputs": [],
   "source": [
    "# Training, Test Split\n",
    "X_train, X_test, y_train, y_test = train_test_split(\n",
    "    LC_data.drop(\"loan_type\", axis=1), LC_data[\"loan_type\"], test_size=0.2, random_state=100)"
   ]
  },
  {
   "cell_type": "markdown",
   "metadata": {},
   "source": [
    "### 4.3.2 Standardize Features"
   ]
  },
  {
   "cell_type": "code",
   "execution_count": 9,
   "metadata": {},
   "outputs": [],
   "source": [
    "# Standardize features\n",
    "sc = StandardScaler()\n",
    "\n",
    "X_train = sc.fit_transform(X_train)\n",
    "X_test = sc.transform(X_test)"
   ]
  },
  {
   "cell_type": "markdown",
   "metadata": {},
   "source": [
    "### 4.3.3 Resampling with SMOTE"
   ]
  },
  {
   "cell_type": "code",
   "execution_count": 10,
   "metadata": {},
   "outputs": [
    {
     "name": "stdout",
     "output_type": "stream",
     "text": [
      "Count of label '0': 4521\n",
      "Count of label '1': 26870\n"
     ]
    }
   ],
   "source": [
    "# Label counts before resampling\n",
    "print(f\"Count of label '0': {sum(y_train==0)}\")\n",
    "print(f\"Count of label '1': {sum(y_train==1)}\")"
   ]
  },
  {
   "cell_type": "code",
   "execution_count": 11,
   "metadata": {},
   "outputs": [
    {
     "name": "stdout",
     "output_type": "stream",
     "text": [
      "The shape of X_train after resampling: (53740, 91)\n",
      "The shape of y_train after resampling: (53740,)\n",
      "Count of label '0' after resampling: 26870\n",
      "Count of label '1' after resampling: 26870\n"
     ]
    }
   ],
   "source": [
    "# Resampling with SMOTE\n",
    "sm = SMOTE(random_state=100)\n",
    "X_train_r, y_train_r = sm.fit_resample(X_train, y_train)\n",
    "\n",
    "print(f\"The shape of X_train after resampling: {X_train_r.shape}\")\n",
    "print(f\"The shape of y_train after resampling: {y_train_r.shape}\")\n",
    "print(f\"Count of label '0' after resampling: {sum(y_train_r==0)}\")\n",
    "print(f\"Count of label '1' after resampling: {sum(y_train_r==1)}\")"
   ]
  },
  {
   "cell_type": "markdown",
   "metadata": {},
   "source": [
    "### 4.3.4 Reporting Function"
   ]
  },
  {
   "cell_type": "code",
   "execution_count": 12,
   "metadata": {},
   "outputs": [],
   "source": [
    "# A separate function for reporting results\n",
    "def result(clf, X_test, y_test):\n",
    "        print(\"Test Results:\\n\")\n",
    "        print(f\"ROC AUC Score: {roc_auc_score(y_test, clf.predict(X_test))}\\n\")\n",
    "        print(f\"Classification Report:\\n{classification_report(y_test, clf.predict(X_test))}\\n\")\n",
    "        print(f\"Confusion Matrix:\\n{confusion_matrix(y_test, clf.predict(X_test))}\\n\")"
   ]
  },
  {
   "cell_type": "markdown",
   "metadata": {},
   "source": [
    "## 4.4 Models"
   ]
  },
  {
   "cell_type": "markdown",
   "metadata": {},
   "source": [
    "### 4.4.1 Logistic Regression"
   ]
  },
  {
   "cell_type": "markdown",
   "metadata": {},
   "source": [
    "#### 4.4.1.1 Hyperparameter Tuning Using Randomized Search"
   ]
  },
  {
   "cell_type": "code",
   "execution_count": 13,
   "metadata": {},
   "outputs": [
    {
     "name": "stdout",
     "output_type": "stream",
     "text": [
      "Fitting 5 folds for each of 30 candidates, totalling 150 fits\n"
     ]
    },
    {
     "name": "stderr",
     "output_type": "stream",
     "text": [
      "C:\\Users\\lastr\\anaconda3\\lib\\site-packages\\sklearn\\model_selection\\_search.py:918: UserWarning: One or more of the test scores are non-finite: [0.85962323        nan        nan 0.85962296 0.8596218         nan\n",
      "        nan 0.85961942        nan        nan 0.85354914        nan\n",
      " 0.85056359        nan 0.85962477        nan 0.84954879 0.85962553\n",
      "        nan        nan        nan 0.85962141 0.8596191         nan\n",
      "        nan 0.85962521        nan        nan        nan        nan]\n",
      "  warnings.warn(\n"
     ]
    },
    {
     "name": "stdout",
     "output_type": "stream",
     "text": [
      "Best score: 0.859625526092979 using {'solver': 'newton-cg', 'penalty': 'l2', 'multi_class': 'auto', 'max_iter': 50, 'C': 10}\n"
     ]
    }
   ],
   "source": [
    "# Parameter Grid for Randomized Search\n",
    "lr_param_grid = {\n",
    "    \"penalty\": [\"l1\", \"l2\", \"elasticnet\"],\n",
    "    \"C\": [0.0001, 0.001, 0.01, 1, 10, 100, 1000],\n",
    "    \"solver\": [\"newton-cg\", \"lbfgs\", \"liblinear\", \"sag\", \"saga\"],\n",
    "    \"max_iter\": [10, 50, 100, 150, 200, 250],\n",
    "    \"multi_class\":[\"auto\", \"ovr\", \"multinomial\"]    \n",
    "}\n",
    "\n",
    "# Stratified K-Fold\n",
    "k = StratifiedKFold()\n",
    "\n",
    "# Perform Randomized Search\n",
    "lr = LogisticRegression(class_weight=\"balanced\", random_state=100)\n",
    "lr_rs = RandomizedSearchCV(estimator=lr, param_distributions=lr_param_grid, n_iter=30,\n",
    "                           scoring=\"roc_auc\", n_jobs=-1, verbose=3, cv=k)\n",
    "lr_rs.fit(X_train_r, y_train_r)\n",
    "\n",
    "print(f\"Best score: {lr_rs.best_score_} using {lr_rs.best_params_}\")"
   ]
  },
  {
   "cell_type": "markdown",
   "metadata": {},
   "source": [
    "#### 4.4.1.2 Performance on Test Set"
   ]
  },
  {
   "cell_type": "code",
   "execution_count": 14,
   "metadata": {},
   "outputs": [
    {
     "name": "stdout",
     "output_type": "stream",
     "text": [
      "Logistic regression test results with the tuned hyperparameters:\n",
      "\n",
      "Test Results:\n",
      "\n",
      "ROC AUC Score: 0.774107295062474\n",
      "\n",
      "Classification Report:\n",
      "              precision    recall  f1-score   support\n",
      "\n",
      "           0       0.32      0.86      0.46      1132\n",
      "           1       0.97      0.69      0.81      6716\n",
      "\n",
      "    accuracy                           0.71      7848\n",
      "   macro avg       0.64      0.77      0.63      7848\n",
      "weighted avg       0.87      0.71      0.76      7848\n",
      "\n",
      "\n",
      "Confusion Matrix:\n",
      "[[ 971  161]\n",
      " [2079 4637]]\n",
      "\n"
     ]
    }
   ],
   "source": [
    "# Perform Logistic Regression \n",
    "lr = LogisticRegression(C=10, max_iter=50, multi_class=\"auto\", penalty=\"l2\", solver=\"newton-cg\",\n",
    "                        class_weight=\"balanced\", random_state=100)\n",
    "lr.fit(X_train_r, y_train_r)\n",
    "\n",
    "print(\"Logistic regression test results with the tuned hyperparameters:\\n\")\n",
    "result(lr, X_test, y_test)"
   ]
  },
  {
   "cell_type": "markdown",
   "metadata": {},
   "source": [
    "### 4.4.2 Random Forest"
   ]
  },
  {
   "cell_type": "markdown",
   "metadata": {},
   "source": [
    "#### 4.4.2.1 Hyperparameter Tuning Using Randomized Search"
   ]
  },
  {
   "cell_type": "code",
   "execution_count": 15,
   "metadata": {},
   "outputs": [
    {
     "name": "stdout",
     "output_type": "stream",
     "text": [
      "Fitting 5 folds for each of 30 candidates, totalling 150 fits\n",
      "Best score: 0.9806699862561736 using {'n_estimators': 80, 'min_samples_split': 10, 'min_samples_leaf': 1, 'max_features': 'auto', 'max_depth': 30}\n"
     ]
    }
   ],
   "source": [
    "# Parameter Grid for Randomized Search\n",
    "rf_param_grid = {\n",
    "    \"n_estimators\": [20, 40, 60, 80, 100],\n",
    "    \"max_depth\": [5, 10, 15, 20, 25, 30],\n",
    "    \"min_samples_split\": [2, 5, 10, 15, 20, 25],\n",
    "    \"min_samples_leaf\": [1, 2, 5, 8, 10],\n",
    "    \"max_features\": [\"auto\", \"sqrt\", \"log2\"]    \n",
    "}\n",
    "\n",
    "# Stratified K-Fold\n",
    "k = StratifiedKFold()\n",
    "\n",
    "# Perform Randomized Search\n",
    "rf = RandomForestClassifier(class_weight=\"balanced\", random_state=100)\n",
    "rf_rs = RandomizedSearchCV(estimator=rf, param_distributions=rf_param_grid, n_iter=30,\n",
    "                           scoring=\"roc_auc\", n_jobs=-1, verbose=3, cv=k)\n",
    "rf_rs.fit(X_train_r, y_train_r)\n",
    "\n",
    "print(f\"Best score: {rf_rs.best_score_} using {rf_rs.best_params_}\")"
   ]
  },
  {
   "cell_type": "markdown",
   "metadata": {},
   "source": [
    "#### 4.4.2.2 Performance on Test Set"
   ]
  },
  {
   "cell_type": "code",
   "execution_count": 16,
   "metadata": {},
   "outputs": [
    {
     "name": "stdout",
     "output_type": "stream",
     "text": [
      "Random forest test results with the tuned hyperparameters:\n",
      "\n",
      "Test Results:\n",
      "\n",
      "ROC AUC Score: 0.7121693461319101\n",
      "\n",
      "Classification Report:\n",
      "              precision    recall  f1-score   support\n",
      "\n",
      "           0       0.49      0.52      0.50      1132\n",
      "           1       0.92      0.91      0.91      6716\n",
      "\n",
      "    accuracy                           0.85      7848\n",
      "   macro avg       0.70      0.71      0.71      7848\n",
      "weighted avg       0.86      0.85      0.85      7848\n",
      "\n",
      "\n",
      "Confusion Matrix:\n",
      "[[ 583  549]\n",
      " [ 609 6107]]\n",
      "\n"
     ]
    }
   ],
   "source": [
    "# Perform Random Forest\n",
    "rf = RandomForestClassifier(n_estimators=80, max_depth=30, min_samples_split=10, min_samples_leaf=1, max_features=\"auto\",\n",
    "                            class_weight=\"balanced\", random_state=100)\n",
    "rf.fit(X_train_r, y_train_r)\n",
    "\n",
    "print(\"Random forest test results with the tuned hyperparameters:\\n\")\n",
    "result(rf, X_test, y_test)"
   ]
  },
  {
   "cell_type": "markdown",
   "metadata": {},
   "source": [
    "### 4.4.3 Support Vector Machine"
   ]
  },
  {
   "cell_type": "markdown",
   "metadata": {},
   "source": [
    "#### 4.4.3.1 Hyperparameter Tuning Using Randomized Search"
   ]
  },
  {
   "cell_type": "code",
   "execution_count": 17,
   "metadata": {},
   "outputs": [
    {
     "name": "stdout",
     "output_type": "stream",
     "text": [
      "Fitting 5 folds for each of 30 candidates, totalling 150 fits\n",
      "Best score: 0.9678165584921488 using {'kernel': 'rbf', 'gamma': 'scale', 'degree': 5, 'C': 100}\n"
     ]
    }
   ],
   "source": [
    "# Parameter Grid for Randomized Search\n",
    "svm_param_grid = {\n",
    "    \"C\": [0.0001, 0.001, 0.01, 1, 10, 100],\n",
    "    \"kernel\": [\"linear\", \"rbf\", \"poly\", \"sigmoid\"],\n",
    "    \"degree\": [2, 3, 4, 5],\n",
    "    \"gamma\": [\"scale\", \"auto\"]\n",
    "}\n",
    "\n",
    "# Stratified K-Fold\n",
    "k = StratifiedKFold()\n",
    "\n",
    "# Perform Randomized Search\n",
    "svm = SVC(class_weight=\"balanced\", random_state=100)\n",
    "svm_rs = RandomizedSearchCV(estimator=svm, param_distributions=svm_param_grid, n_iter=30,\n",
    "                            scoring=\"roc_auc\", n_jobs=-1, verbose=3, cv=k)\n",
    "svm_rs.fit(X_train_r, y_train_r)\n",
    "\n",
    "print(f\"Best score: {svm_rs.best_score_} using {svm_rs.best_params_}\")"
   ]
  },
  {
   "cell_type": "markdown",
   "metadata": {},
   "source": [
    "#### 4.4.3.2 Performance on Test Set"
   ]
  },
  {
   "cell_type": "code",
   "execution_count": 18,
   "metadata": {},
   "outputs": [
    {
     "name": "stdout",
     "output_type": "stream",
     "text": [
      "SVM test results with the tuned hyperparameters:\n",
      "\n",
      "Test Results:\n",
      "\n",
      "ROC AUC Score: 0.6530699326748843\n",
      "\n",
      "Classification Report:\n",
      "              precision    recall  f1-score   support\n",
      "\n",
      "           0       0.36      0.43      0.40      1132\n",
      "           1       0.90      0.87      0.89      6716\n",
      "\n",
      "    accuracy                           0.81      7848\n",
      "   macro avg       0.63      0.65      0.64      7848\n",
      "weighted avg       0.82      0.81      0.82      7848\n",
      "\n",
      "\n",
      "Confusion Matrix:\n",
      "[[ 491  641]\n",
      " [ 857 5859]]\n",
      "\n"
     ]
    }
   ],
   "source": [
    "# Perform SVM\n",
    "svm = SVC(C=100, kernel=\"rbf\", degree=5, gamma=\"scale\", class_weight=\"balanced\", random_state=100)\n",
    "svm.fit(X_train_r, y_train_r)\n",
    "\n",
    "print(\"SVM test results with the tuned hyperparameters:\\n\")\n",
    "result(svm, X_test, y_test)"
   ]
  },
  {
   "cell_type": "markdown",
   "metadata": {},
   "source": [
    "### 4.4.4 XGBoost"
   ]
  },
  {
   "cell_type": "markdown",
   "metadata": {},
   "source": [
    "#### 4.4.4.1 Hyperparameter Tuning Using Randomized Search"
   ]
  },
  {
   "cell_type": "code",
   "execution_count": 19,
   "metadata": {},
   "outputs": [],
   "source": [
    "# DMatrix\n",
    "D_train = xgb.DMatrix(X_train_r, label=y_train_r)\n",
    "D_test = xgb.DMatrix(X_test, label=y_test)"
   ]
  },
  {
   "cell_type": "code",
   "execution_count": 20,
   "metadata": {},
   "outputs": [
    {
     "name": "stdout",
     "output_type": "stream",
     "text": [
      "Fitting 5 folds for each of 30 candidates, totalling 150 fits\n"
     ]
    },
    {
     "name": "stderr",
     "output_type": "stream",
     "text": [
      "C:\\Users\\lastr\\anaconda3\\lib\\site-packages\\xgboost\\sklearn.py:888: UserWarning: The use of label encoder in XGBClassifier is deprecated and will be removed in a future release. To remove this warning, do the following: 1) Pass option use_label_encoder=False when constructing XGBClassifier object; and 2) Encode your labels (y) as integers starting with 0, i.e. 0, 1, 2, ..., [num_class - 1].\n",
      "  warnings.warn(label_encoder_deprecation_msg, UserWarning)\n"
     ]
    },
    {
     "name": "stdout",
     "output_type": "stream",
     "text": [
      "Best score: 0.9801571689573738 using {'subsample': 0.7, 'scale_pos_weight': 0.16, 'min_child_weight': 1, 'max_depth': 10, 'max_delta_step': 2, 'gamma': 0.0, 'eta': 0.1, 'colsample_bytree': 0.7}\n"
     ]
    }
   ],
   "source": [
    "# Parameter Grid for Randomized Search\n",
    "xgb_param_grid = {\n",
    "    \"eta\": [0.01, 0.02, 0.05, 0.10, 0.15, 0.20, 0.30],\n",
    "    \"gamma\": [0.0, 0.01, 0.05, 0.1, 0.2],\n",
    "    \"max_depth\": [2, 4, 6, 8, 10],\n",
    "    \"min_child_weight\": [1, 2, 3, 5, 7],\n",
    "    \"max_delta_step\": [1, 2, 4, 6, 8, 10],\n",
    "    \"subsample\": [0.1, 0.3, 0.5, 0.7, 0.9],\n",
    "    \"colsample_bytree\": [0.1, 0.3, 0.5, 0.7, 0.9],\n",
    "    \"scale_pos_weight\": [0.10, 0.12, 0.14, 0.15, 0.16, 0.17]\n",
    "     }\n",
    "\n",
    "# Stratified K-Fold\n",
    "k = StratifiedKFold()\n",
    "\n",
    "# Perform Randomized Search\n",
    "xgb = XGBClassifier(objective=\"binary:logistic\", eval_metric=\"auc\", seed=100)\n",
    "xgb_rs = RandomizedSearchCV(estimator=xgb, param_distributions=xgb_param_grid, n_iter=30,\n",
    "                            scoring=\"roc_auc\", n_jobs=-1, refit=True, verbose=3, cv=k)\n",
    "xgb_rs.fit(X_train_r, y_train_r)\n",
    "\n",
    "print(f\"Best score: {xgb_rs.best_score_} using {xgb_rs.best_params_}\")"
   ]
  },
  {
   "cell_type": "markdown",
   "metadata": {},
   "source": [
    "#### 4.4.4.2 Performance on Test Set"
   ]
  },
  {
   "cell_type": "code",
   "execution_count": 21,
   "metadata": {},
   "outputs": [
    {
     "name": "stdout",
     "output_type": "stream",
     "text": [
      "XGBoost test results with the tuned hyperparameters:\n",
      "\n",
      "Test Results:\n",
      "\n",
      "ROC AUC Score: 0.8212740736219818\n",
      "\n",
      "Classification Report:\n",
      "              precision    recall  f1-score   support\n",
      "\n",
      "           0       0.42      0.84      0.56      1132\n",
      "           1       0.97      0.81      0.88      6716\n",
      "\n",
      "    accuracy                           0.81      7848\n",
      "   macro avg       0.69      0.82      0.72      7848\n",
      "weighted avg       0.89      0.81      0.83      7848\n",
      "\n",
      "\n",
      "Confusion Matrix:\n",
      "[[ 948  184]\n",
      " [1309 5407]]\n",
      "\n"
     ]
    }
   ],
   "source": [
    "# Perform XGBoost\n",
    "xgb = XGBClassifier(objective=\"binary:logistic\", eval_metric=\"auc\", seed=100, eta=0.1, gamma=0, max_depth=10,\n",
    "                    min_child_weight=1, max_delta_step=2, subsample=0.7, colsample_bytree=0.7, scale_pos_weight=0.16)\n",
    "xgb.fit(X_train_r, y_train_r)\n",
    "\n",
    "print(f\"XGBoost test results with the tuned hyperparameters:\\n\")\n",
    "result(xgb, X_test, y_test)"
   ]
  },
  {
   "cell_type": "markdown",
   "metadata": {},
   "source": [
    "XGBoost classifier is the best model based on F1 scores and ROC AUC score."
   ]
  },
  {
   "cell_type": "markdown",
   "metadata": {},
   "source": [
    "## 4.5 Features of Importance"
   ]
  },
  {
   "cell_type": "code",
   "execution_count": 23,
   "metadata": {},
   "outputs": [
    {
     "data": {
      "text/plain": [
       "Text(0.5, 1.0, 'XGBoost Classifier Feature Importance')"
      ]
     },
     "execution_count": 23,
     "metadata": {},
     "output_type": "execute_result"
    },
    {
     "data": {
      "image/png": "[encoded data removed]",
      "text/plain": [
       "<Figure size 1296x576 with 1 Axes>"
      ]
     },
     "metadata": {
      "needs_background": "light"
     },
     "output_type": "display_data"
    }
   ],
   "source": [
    "# XGBoost Classifier Feature Importance Bar Plot\n",
    "plt.subplots(figsize=(18, 8))\n",
    "imps = xgb.feature_importances_\n",
    "xgb_feat_imps = pd.Series(imps, index=LC_data.drop(\"loan_type\", axis=1).columns).sort_values(ascending=False)\n",
    "xgb_feat_imps.plot(kind=\"bar\")\n",
    "plt.xlabel(\"Features\")\n",
    "plt.ylabel(\"Importance\")\n",
    "plt.title(\"XGBoost Classifier Feature Importance\")"
   ]
  },
  {
   "cell_type": "markdown",
   "metadata": {},
   "source": [
    "Most notable features of importance according to XGBoost model:\n",
    "__last_credit_pull_d__, __grade__, __inq_last_6mths__"
   ]
  },
  {
   "cell_type": "markdown",
   "metadata": {},
   "source": [
    "## 4.6 Save Best Model Object"
   ]
  },
  {
   "cell_type": "code",
   "execution_count": 24,
   "metadata": {},
   "outputs": [],
   "source": [
    "# Save the best model along with the relevant information\n",
    "best_model = xgb_rs.best_estimator_\n",
    "best_model.version = \"0.1\"\n",
    "best_model.pandas_version = pd.__version__\n",
    "best_model.numpy_version = np.__version__\n",
    "best_model.sklearn_version = sklearn_version"
   ]
  },
  {
   "cell_type": "code",
   "execution_count": 26,
   "metadata": {},
   "outputs": [],
   "source": [
    "modelpath = r\"C:\\Users\\lastr\\Desktop\\GitHub\\Lending_Club_Capstone\\models\"\n",
    "if not os.path.exists(modelpath):\n",
    "    os.mkdir(modelpath)\n",
    "LCmodel_path = os.path.join(modelpath, \"lending_club_approval_model.pkl\")\n",
    "if not os.path.exists(LCmodel_path):\n",
    "    with open(LCmodel_path, \"wb\") as f:\n",
    "        pickle.dump(best_model, f)"
   ]
  }
 ],
 "metadata": {
  "kernelspec": {
   "display_name": "Python 3",
   "language": "python",
   "name": "python3"
  },
  "language_info": {
   "codemirror_mode": {
    "name": "ipython",
    "version": 3
   },
   "file_extension": ".py",
   "mimetype": "text/x-python",
   "name": "python",
   "nbconvert_exporter": "python",
   "pygments_lexer": "ipython3",
   "version": "3.8.5"
  }
 },
 "nbformat": 4,
 "nbformat_minor": 5
}
