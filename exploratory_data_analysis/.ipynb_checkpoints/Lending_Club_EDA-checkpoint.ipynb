{
 "cells": [
  {
   "cell_type": "markdown",
   "metadata": {},
   "source": [
    "# Lending Club - Loan Approval Process Optimization"
   ]
  },
  {
   "cell_type": "markdown",
   "metadata": {},
   "source": [
    "# 2. Exploratory Data Analysis "
   ]
  },
  {
   "cell_type": "markdown",
   "metadata": {},
   "source": [
    "## 2.1 Imports"
   ]
  },
  {
   "cell_type": "code",
   "execution_count": 1,
   "metadata": {},
   "outputs": [],
   "source": [
    "# Import the libraries necessary for the current task\n",
    "import pandas as pd\n",
    "import numpy as np\n",
    "from numpy import nan\n",
    "import matplotlib.pyplot as plt\n",
    "import seaborn as sns\n",
    "from sklearn.decomposition import PCA\n",
    "from sklearn.preprocessing import scale\n",
    "import os\n",
    "\n",
    "# pandas Configuration\n",
    "pd.set_option(\"max_rows\", 120)\n",
    "pd.set_option(\"max_columns\", 120)\n",
    "pd.set_option(\"display.max_colwidth\", None)"
   ]
  },
  {
   "cell_type": "markdown",
   "metadata": {},
   "source": [
    "## 2.2 Data"
   ]
  },
  {
   "cell_type": "code",
   "execution_count": 2,
   "metadata": {},
   "outputs": [],
   "source": [
    "# Load the CSV data\n",
    "LC_data = pd.read_csv(r\"C:\\Users\\lastr\\Desktop\\GitHub\\Lending_Club_Capstone\\data\\lending_club_loans_cleaned.csv\")"
   ]
  },
  {
   "cell_type": "code",
   "execution_count": 3,
   "metadata": {},
   "outputs": [
    {
     "name": "stdout",
     "output_type": "stream",
     "text": [
      "<class 'pandas.core.frame.DataFrame'>\n",
      "RangeIndex: 39239 entries, 0 to 39238\n",
      "Data columns (total 26 columns):\n",
      " #   Column                  Non-Null Count  Dtype  \n",
      "---  ------                  --------------  -----  \n",
      " 0   loan_amnt               39239 non-null  float64\n",
      " 1   term                    39239 non-null  object \n",
      " 2   installment             39239 non-null  float64\n",
      " 3   grade                   39239 non-null  object \n",
      " 4   emp_length              38182 non-null  object \n",
      " 5   home_ownership          39239 non-null  object \n",
      " 6   annual_inc              39239 non-null  float64\n",
      " 7   verification_status     39239 non-null  object \n",
      " 8   loan_type               39239 non-null  int64  \n",
      " 9   purpose                 39239 non-null  object \n",
      " 10  title                   39228 non-null  object \n",
      " 11  addr_state              39239 non-null  object \n",
      " 12  dti                     39239 non-null  float64\n",
      " 13  delinq_2yrs             39239 non-null  float64\n",
      " 14  earliest_cr_line        39239 non-null  object \n",
      " 15  inq_last_6mths          39239 non-null  float64\n",
      " 16  mths_since_last_delinq  13887 non-null  float64\n",
      " 17  mths_since_last_record  2773 non-null   float64\n",
      " 18  open_acc                39239 non-null  float64\n",
      " 19  pub_rec                 39239 non-null  float64\n",
      " 20  revol_bal               39239 non-null  float64\n",
      " 21  revol_util              39189 non-null  object \n",
      " 22  total_acc               39239 non-null  float64\n",
      " 23  last_credit_pull_d      39237 non-null  object \n",
      " 24  pub_rec_bankruptcies    38542 non-null  float64\n",
      " 25  fico_range_avg          39239 non-null  float64\n",
      "dtypes: float64(14), int64(1), object(11)\n",
      "memory usage: 7.8+ MB\n"
     ]
    }
   ],
   "source": [
    "# Summary of the data\n",
    "LC_data.info()"
   ]
  },
  {
   "cell_type": "code",
   "execution_count": 4,
   "metadata": {},
   "outputs": [
    {
     "data": {
      "text/html": [
       "<div>\n",
       "<style scoped>\n",
       "    .dataframe tbody tr th:only-of-type {\n",
       "        vertical-align: middle;\n",
       "    }\n",
       "\n",
       "    .dataframe tbody tr th {\n",
       "        vertical-align: top;\n",
       "    }\n",
       "\n",
       "    .dataframe thead th {\n",
       "        text-align: right;\n",
       "    }\n",
       "</style>\n",
       "<table border=\"1\" class=\"dataframe\">\n",
       "  <thead>\n",
       "    <tr style=\"text-align: right;\">\n",
       "      <th></th>\n",
       "      <th>loan_amnt</th>\n",
       "      <th>term</th>\n",
       "      <th>installment</th>\n",
       "      <th>grade</th>\n",
       "      <th>emp_length</th>\n",
       "      <th>home_ownership</th>\n",
       "      <th>annual_inc</th>\n",
       "      <th>verification_status</th>\n",
       "      <th>loan_type</th>\n",
       "      <th>purpose</th>\n",
       "      <th>title</th>\n",
       "      <th>addr_state</th>\n",
       "      <th>dti</th>\n",
       "      <th>delinq_2yrs</th>\n",
       "      <th>earliest_cr_line</th>\n",
       "      <th>inq_last_6mths</th>\n",
       "      <th>mths_since_last_delinq</th>\n",
       "      <th>mths_since_last_record</th>\n",
       "      <th>open_acc</th>\n",
       "      <th>pub_rec</th>\n",
       "      <th>revol_bal</th>\n",
       "      <th>revol_util</th>\n",
       "      <th>total_acc</th>\n",
       "      <th>last_credit_pull_d</th>\n",
       "      <th>pub_rec_bankruptcies</th>\n",
       "      <th>fico_range_avg</th>\n",
       "    </tr>\n",
       "  </thead>\n",
       "  <tbody>\n",
       "    <tr>\n",
       "      <th>0</th>\n",
       "      <td>5000.0</td>\n",
       "      <td>36 months</td>\n",
       "      <td>162.87</td>\n",
       "      <td>B</td>\n",
       "      <td>10+ years</td>\n",
       "      <td>RENT</td>\n",
       "      <td>24000.0</td>\n",
       "      <td>Verified</td>\n",
       "      <td>1</td>\n",
       "      <td>credit_card</td>\n",
       "      <td>Computer</td>\n",
       "      <td>AZ</td>\n",
       "      <td>27.65</td>\n",
       "      <td>0.0</td>\n",
       "      <td>Jan-1985</td>\n",
       "      <td>1.0</td>\n",
       "      <td>NaN</td>\n",
       "      <td>NaN</td>\n",
       "      <td>3.0</td>\n",
       "      <td>0.0</td>\n",
       "      <td>13648.0</td>\n",
       "      <td>83.7%</td>\n",
       "      <td>9.0</td>\n",
       "      <td>Sep-2016</td>\n",
       "      <td>0.0</td>\n",
       "      <td>737.0</td>\n",
       "    </tr>\n",
       "    <tr>\n",
       "      <th>1</th>\n",
       "      <td>2500.0</td>\n",
       "      <td>60 months</td>\n",
       "      <td>59.83</td>\n",
       "      <td>C</td>\n",
       "      <td>&lt; 1 year</td>\n",
       "      <td>RENT</td>\n",
       "      <td>30000.0</td>\n",
       "      <td>Source Verified</td>\n",
       "      <td>0</td>\n",
       "      <td>car</td>\n",
       "      <td>bike</td>\n",
       "      <td>GA</td>\n",
       "      <td>1.00</td>\n",
       "      <td>0.0</td>\n",
       "      <td>Apr-1999</td>\n",
       "      <td>5.0</td>\n",
       "      <td>NaN</td>\n",
       "      <td>NaN</td>\n",
       "      <td>3.0</td>\n",
       "      <td>0.0</td>\n",
       "      <td>1687.0</td>\n",
       "      <td>9.4%</td>\n",
       "      <td>4.0</td>\n",
       "      <td>Sep-2016</td>\n",
       "      <td>0.0</td>\n",
       "      <td>742.0</td>\n",
       "    </tr>\n",
       "    <tr>\n",
       "      <th>2</th>\n",
       "      <td>2400.0</td>\n",
       "      <td>36 months</td>\n",
       "      <td>84.33</td>\n",
       "      <td>C</td>\n",
       "      <td>10+ years</td>\n",
       "      <td>RENT</td>\n",
       "      <td>12252.0</td>\n",
       "      <td>Not Verified</td>\n",
       "      <td>1</td>\n",
       "      <td>small_business</td>\n",
       "      <td>real estate business</td>\n",
       "      <td>IL</td>\n",
       "      <td>8.72</td>\n",
       "      <td>0.0</td>\n",
       "      <td>Nov-2001</td>\n",
       "      <td>2.0</td>\n",
       "      <td>NaN</td>\n",
       "      <td>NaN</td>\n",
       "      <td>2.0</td>\n",
       "      <td>0.0</td>\n",
       "      <td>2956.0</td>\n",
       "      <td>98.5%</td>\n",
       "      <td>10.0</td>\n",
       "      <td>Sep-2016</td>\n",
       "      <td>0.0</td>\n",
       "      <td>737.0</td>\n",
       "    </tr>\n",
       "    <tr>\n",
       "      <th>3</th>\n",
       "      <td>10000.0</td>\n",
       "      <td>36 months</td>\n",
       "      <td>339.31</td>\n",
       "      <td>C</td>\n",
       "      <td>10+ years</td>\n",
       "      <td>RENT</td>\n",
       "      <td>49200.0</td>\n",
       "      <td>Source Verified</td>\n",
       "      <td>1</td>\n",
       "      <td>other</td>\n",
       "      <td>personel</td>\n",
       "      <td>CA</td>\n",
       "      <td>20.00</td>\n",
       "      <td>0.0</td>\n",
       "      <td>Feb-1996</td>\n",
       "      <td>1.0</td>\n",
       "      <td>35.0</td>\n",
       "      <td>NaN</td>\n",
       "      <td>10.0</td>\n",
       "      <td>0.0</td>\n",
       "      <td>5598.0</td>\n",
       "      <td>21%</td>\n",
       "      <td>37.0</td>\n",
       "      <td>Apr-2016</td>\n",
       "      <td>0.0</td>\n",
       "      <td>692.0</td>\n",
       "    </tr>\n",
       "    <tr>\n",
       "      <th>4</th>\n",
       "      <td>5000.0</td>\n",
       "      <td>36 months</td>\n",
       "      <td>156.46</td>\n",
       "      <td>A</td>\n",
       "      <td>3 years</td>\n",
       "      <td>RENT</td>\n",
       "      <td>36000.0</td>\n",
       "      <td>Source Verified</td>\n",
       "      <td>1</td>\n",
       "      <td>wedding</td>\n",
       "      <td>My wedding loan I promise to pay back</td>\n",
       "      <td>AZ</td>\n",
       "      <td>11.20</td>\n",
       "      <td>0.0</td>\n",
       "      <td>Nov-2004</td>\n",
       "      <td>3.0</td>\n",
       "      <td>NaN</td>\n",
       "      <td>NaN</td>\n",
       "      <td>9.0</td>\n",
       "      <td>0.0</td>\n",
       "      <td>7963.0</td>\n",
       "      <td>28.3%</td>\n",
       "      <td>12.0</td>\n",
       "      <td>Jan-2016</td>\n",
       "      <td>0.0</td>\n",
       "      <td>732.0</td>\n",
       "    </tr>\n",
       "  </tbody>\n",
       "</table>\n",
       "</div>"
      ],
      "text/plain": [
       "   loan_amnt        term  installment grade emp_length home_ownership  \\\n",
       "0     5000.0   36 months       162.87     B  10+ years           RENT   \n",
       "1     2500.0   60 months        59.83     C   < 1 year           RENT   \n",
       "2     2400.0   36 months        84.33     C  10+ years           RENT   \n",
       "3    10000.0   36 months       339.31     C  10+ years           RENT   \n",
       "4     5000.0   36 months       156.46     A    3 years           RENT   \n",
       "\n",
       "   annual_inc verification_status  loan_type         purpose  \\\n",
       "0     24000.0            Verified          1     credit_card   \n",
       "1     30000.0     Source Verified          0             car   \n",
       "2     12252.0        Not Verified          1  small_business   \n",
       "3     49200.0     Source Verified          1           other   \n",
       "4     36000.0     Source Verified          1         wedding   \n",
       "\n",
       "                                   title addr_state    dti  delinq_2yrs  \\\n",
       "0                               Computer         AZ  27.65          0.0   \n",
       "1                                   bike         GA   1.00          0.0   \n",
       "2                   real estate business         IL   8.72          0.0   \n",
       "3                               personel         CA  20.00          0.0   \n",
       "4  My wedding loan I promise to pay back         AZ  11.20          0.0   \n",
       "\n",
       "  earliest_cr_line  inq_last_6mths  mths_since_last_delinq  \\\n",
       "0         Jan-1985             1.0                     NaN   \n",
       "1         Apr-1999             5.0                     NaN   \n",
       "2         Nov-2001             2.0                     NaN   \n",
       "3         Feb-1996             1.0                    35.0   \n",
       "4         Nov-2004             3.0                     NaN   \n",
       "\n",
       "   mths_since_last_record  open_acc  pub_rec  revol_bal revol_util  total_acc  \\\n",
       "0                     NaN       3.0      0.0    13648.0      83.7%        9.0   \n",
       "1                     NaN       3.0      0.0     1687.0       9.4%        4.0   \n",
       "2                     NaN       2.0      0.0     2956.0      98.5%       10.0   \n",
       "3                     NaN      10.0      0.0     5598.0        21%       37.0   \n",
       "4                     NaN       9.0      0.0     7963.0      28.3%       12.0   \n",
       "\n",
       "  last_credit_pull_d  pub_rec_bankruptcies  fico_range_avg  \n",
       "0           Sep-2016                   0.0           737.0  \n",
       "1           Sep-2016                   0.0           742.0  \n",
       "2           Sep-2016                   0.0           737.0  \n",
       "3           Apr-2016                   0.0           692.0  \n",
       "4           Jan-2016                   0.0           732.0  "
      ]
     },
     "execution_count": 4,
     "metadata": {},
     "output_type": "execute_result"
    }
   ],
   "source": [
    "# First 5 entries of the data\n",
    "LC_data.head()"
   ]
  },
  {
   "cell_type": "markdown",
   "metadata": {},
   "source": [
    "## 2.3 Data Exploration"
   ]
  },
  {
   "cell_type": "code",
   "execution_count": 5,
   "metadata": {},
   "outputs": [
    {
     "data": {
      "text/plain": [
       "float64    14\n",
       "object     11\n",
       "int64       1\n",
       "dtype: int64"
      ]
     },
     "execution_count": 5,
     "metadata": {},
     "output_type": "execute_result"
    }
   ],
   "source": [
    "# Data types present in the data frame\n",
    "LC_data.dtypes.value_counts()"
   ]
  },
  {
   "cell_type": "markdown",
   "metadata": {},
   "source": [
    "### 2.3.1 Object Features"
   ]
  },
  {
   "cell_type": "code",
   "execution_count": 6,
   "metadata": {},
   "outputs": [
    {
     "data": {
      "text/plain": [
       "term                     36 months\n",
       "grade                            B\n",
       "emp_length               10+ years\n",
       "home_ownership                RENT\n",
       "verification_status       Verified\n",
       "purpose                credit_card\n",
       "title                     Computer\n",
       "addr_state                      AZ\n",
       "earliest_cr_line          Jan-1985\n",
       "revol_util                   83.7%\n",
       "last_credit_pull_d        Sep-2016\n",
       "Name: 0, dtype: object"
      ]
     },
     "execution_count": 6,
     "metadata": {},
     "output_type": "execute_result"
    }
   ],
   "source": [
    "# Examine the object features\n",
    "obj_features = LC_data.select_dtypes(include=[\"object\"])\n",
    "obj_features.iloc[0]"
   ]
  },
  {
   "cell_type": "code",
   "execution_count": 7,
   "metadata": {},
   "outputs": [
    {
     "name": "stdout",
     "output_type": "stream",
     "text": [
      " 36 months    29096\n",
      " 60 months    10143\n",
      "Name: term, dtype: int64\n",
      "\n",
      "A    10064\n",
      "B    11878\n",
      "C     7985\n",
      "D     5213\n",
      "E     2772\n",
      "F     1016\n",
      "G      311\n",
      "Name: grade, dtype: int64\n",
      "\n",
      "1 year       3214\n",
      "10+ years    8717\n",
      "2 years      4349\n",
      "3 years      4054\n",
      "4 years      3394\n",
      "5 years      3250\n",
      "6 years      2202\n",
      "7 years      1742\n",
      "8 years      1459\n",
      "9 years      1245\n",
      "< 1 year     4556\n",
      "Name: emp_length, dtype: int64\n",
      "\n",
      "MORTGAGE    17396\n",
      "NONE            3\n",
      "OTHER          98\n",
      "OWN          3028\n",
      "RENT        18714\n",
      "Name: home_ownership, dtype: int64\n",
      "\n",
      "Not Verified       16845\n",
      "Source Verified     9868\n",
      "Verified           12526\n",
      "Name: verification_status, dtype: int64\n",
      "\n",
      "car                    1536\n",
      "credit_card            5076\n",
      "debt_consolidation    18370\n",
      "educational             325\n",
      "home_improvement       2949\n",
      "house                   372\n",
      "major_purchase         2184\n",
      "medical                 690\n",
      "moving                  582\n",
      "other                  3937\n",
      "renewable_energy        103\n",
      "small_business         1796\n",
      "vacation                378\n",
      "wedding                 941\n",
      "Name: purpose, dtype: int64\n",
      "\n",
      "\\tdebt_consolidation         2\n",
      "   HITEK  EQUIPMENT          1\n",
      " APRILIA TUONO 1000R         1\n",
      " Auto                        1\n",
      " Auto Loan                   1\n",
      "                            ..\n",
      "zack                         2\n",
      "zandercade                   1\n",
      "zipcar                       1\n",
      "zxcvb                        1\n",
      "îîMY FIRST CAR îî    1\n",
      "Name: title, Length: 19512, dtype: int64\n",
      "\n",
      "AK      79\n",
      "AL     442\n",
      "AR     242\n",
      "AZ     867\n",
      "CA    7029\n",
      "CO     778\n",
      "CT     738\n",
      "DC     213\n",
      "DE     114\n",
      "FL    2834\n",
      "GA    1381\n",
      "HI     171\n",
      "IA       5\n",
      "ID       6\n",
      "IL    1514\n",
      "IN       9\n",
      "KS     265\n",
      "KY     319\n",
      "LA     432\n",
      "MA    1323\n",
      "MD    1041\n",
      "ME       3\n",
      "MI     718\n",
      "MN     611\n",
      "MO     678\n",
      "MS      19\n",
      "MT      84\n",
      "NC     773\n",
      "NE       5\n",
      "NH     169\n",
      "NJ    1830\n",
      "NM     187\n",
      "NV     489\n",
      "NY    3759\n",
      "OH    1202\n",
      "OK     295\n",
      "OR     442\n",
      "PA    1497\n",
      "RI     197\n",
      "SC     469\n",
      "SD      62\n",
      "TN      17\n",
      "TX    2698\n",
      "UT     255\n",
      "VA    1389\n",
      "VT      53\n",
      "WA     831\n",
      "WI     448\n",
      "WV     174\n",
      "WY      83\n",
      "Name: addr_state, dtype: int64\n",
      "\n",
      "Apr-1964      3\n",
      "Apr-1966      1\n",
      "Apr-1967      4\n",
      "Apr-1969      1\n",
      "Apr-1970      3\n",
      "           ... \n",
      "Sep-2004    205\n",
      "Sep-2005    138\n",
      "Sep-2006    138\n",
      "Sep-2007     61\n",
      "Sep-2008      8\n",
      "Name: earliest_cr_line, Length: 526, dtype: int64\n",
      "\n",
      "0%       972\n",
      "0.01%      1\n",
      "0.03%      1\n",
      "0.04%      1\n",
      "0.05%      1\n",
      "        ... \n",
      "99.5%     24\n",
      "99.6%     22\n",
      "99.7%     30\n",
      "99.8%     23\n",
      "99.9%     25\n",
      "Name: revol_util, Length: 1089, dtype: int64\n",
      "\n",
      "Apr-2009       15\n",
      "Apr-2010       43\n",
      "Apr-2011      115\n",
      "Apr-2012      259\n",
      "Apr-2013      333\n",
      "Apr-2014      396\n",
      "Apr-2015      301\n",
      "Apr-2016      664\n",
      "Aug-2007       15\n",
      "Aug-2008        8\n",
      "Aug-2009       17\n",
      "Aug-2010       45\n",
      "Aug-2011      208\n",
      "Aug-2012      283\n",
      "Aug-2013      295\n",
      "Aug-2014      460\n",
      "Aug-2015      349\n",
      "Aug-2016      716\n",
      "Dec-2007        2\n",
      "Dec-2008        5\n",
      "Dec-2009       29\n",
      "Dec-2010       96\n",
      "Dec-2011      175\n",
      "Dec-2012      275\n",
      "Dec-2013      340\n",
      "Dec-2014      483\n",
      "Dec-2015      484\n",
      "Feb-2008        3\n",
      "Feb-2009       16\n",
      "Feb-2010       50\n",
      "Feb-2011      136\n",
      "Feb-2012      304\n",
      "Feb-2013      663\n",
      "Feb-2014      433\n",
      "Feb-2015      298\n",
      "Feb-2016      581\n",
      "Jan-2008        3\n",
      "Jan-2009       12\n",
      "Jan-2010       27\n",
      "Jan-2011      114\n",
      "Jan-2012      198\n",
      "Jan-2013       31\n",
      "Jan-2014      420\n",
      "Jan-2015      358\n",
      "Jan-2016      513\n",
      "Jul-2007        1\n",
      "Jul-2008        1\n",
      "Jul-2009       13\n",
      "Jul-2010       82\n",
      "Jul-2011      133\n",
      "Jul-2012      232\n",
      "Jul-2013      310\n",
      "Jul-2014      481\n",
      "Jul-2015      451\n",
      "Jul-2016      589\n",
      "Jun-2007       12\n",
      "Jun-2008        1\n",
      "Jun-2009       13\n",
      "Jun-2010       45\n",
      "Jun-2011      139\n",
      "Jun-2012      258\n",
      "Jun-2013      294\n",
      "Jun-2014      379\n",
      "Jun-2015      311\n",
      "Jun-2016      523\n",
      "Mar-2008        4\n",
      "Mar-2009       10\n",
      "Mar-2010       40\n",
      "Mar-2011      233\n",
      "Mar-2012      259\n",
      "Mar-2013      472\n",
      "Mar-2014      463\n",
      "Mar-2015      298\n",
      "Mar-2016      827\n",
      "May-2007        1\n",
      "May-2008        1\n",
      "May-2009       10\n",
      "May-2010       40\n",
      "May-2011      160\n",
      "May-2012      273\n",
      "May-2013      352\n",
      "May-2014      380\n",
      "May-2015      337\n",
      "May-2016      499\n",
      "Nov-2009       19\n",
      "Nov-2010       73\n",
      "Nov-2011      153\n",
      "Nov-2012      303\n",
      "Nov-2013      370\n",
      "Nov-2014      409\n",
      "Nov-2015      430\n",
      "Oct-2007        3\n",
      "Oct-2008        9\n",
      "Oct-2009       24\n",
      "Oct-2010       77\n",
      "Oct-2011      129\n",
      "Oct-2012      262\n",
      "Oct-2013      328\n",
      "Oct-2014      451\n",
      "Oct-2015      414\n",
      "Sep-2007        2\n",
      "Sep-2008        5\n",
      "Sep-2009       10\n",
      "Sep-2010       81\n",
      "Sep-2011      122\n",
      "Sep-2012      315\n",
      "Sep-2013      309\n",
      "Sep-2014      471\n",
      "Sep-2015      415\n",
      "Sep-2016    14555\n",
      "Name: last_credit_pull_d, dtype: int64\n",
      "\n"
     ]
    }
   ],
   "source": [
    "# Examine the feature values\n",
    "for col in obj_features.columns:\n",
    "    print(obj_features[col].value_counts().sort_index())\n",
    "    print()"
   ]
  },
  {
   "cell_type": "markdown",
   "metadata": {},
   "source": [
    "__Feature Containing Numerical Values:__\n",
    "* __revol_util__\n",
    "\n",
    "__Features Containing Categorical Values:__\n",
    "* __term/grade/emp_length/home_ownership/verification_status/purpose/title/addr_state__"
   ]
  },
  {
   "cell_type": "code",
   "execution_count": 8,
   "metadata": {},
   "outputs": [],
   "source": [
    "# Remove % sign and convert revol_util to numerical data type\n",
    "LC_data[\"revol_util\"] = LC_data[\"revol_util\"].str.replace(\"%\", \"\").astype(\"float\")"
   ]
  },
  {
   "cell_type": "markdown",
   "metadata": {},
   "source": [
    "#### 2.3.1.1 Categorical Features"
   ]
  },
  {
   "cell_type": "markdown",
   "metadata": {},
   "source": [
    "__Features with Similar Values:__\n",
    "* __purpose/title__"
   ]
  },
  {
   "cell_type": "code",
   "execution_count": 9,
   "metadata": {},
   "outputs": [
    {
     "name": "stdout",
     "output_type": "stream",
     "text": [
      "Feature:  purpose\n",
      "debt_consolidation    18370\n",
      "credit_card            5076\n",
      "other                  3937\n",
      "home_improvement       2949\n",
      "major_purchase         2184\n",
      "small_business         1796\n",
      "car                    1536\n",
      "wedding                 941\n",
      "medical                 690\n",
      "moving                  582\n",
      "vacation                378\n",
      "house                   372\n",
      "educational             325\n",
      "renewable_energy        103\n",
      "Name: purpose, dtype: int64\n",
      "\n",
      "Feature:  title\n",
      "Debt Consolidation                               2144\n",
      "Debt Consolidation Loan                          1671\n",
      "Personal Loan                                     650\n",
      "Consolidation                                     502\n",
      "debt consolidation                                495\n",
      "                                                 ... \n",
      "Land Improvement Loan                               1\n",
      "I am requesting a Consolidation Loan.               1\n",
      "Credit Card buster                                  1\n",
      "Consolidating high interest credit card loans       1\n",
      "Moving Funds                                        1\n",
      "Name: title, Length: 19512, dtype: int64\n",
      "\n"
     ]
    }
   ],
   "source": [
    "# Compare purpose and title for redundancy\n",
    "similar_features = [\"purpose\", \"title\"]\n",
    "\n",
    "for feature in similar_features:\n",
    "    print(\"Feature: \", feature)\n",
    "    print(LC_data[feature].value_counts())\n",
    "    print()"
   ]
  },
  {
   "cell_type": "markdown",
   "metadata": {},
   "source": [
    "__purpose__ and __title__ are indeed redundant features.\n",
    "__purpose__ is more concise between the two, and thus __title__ will be removed."
   ]
  },
  {
   "cell_type": "code",
   "execution_count": 10,
   "metadata": {},
   "outputs": [],
   "source": [
    "# Drop title column\n",
    "LC_data.drop([\"title\"], axis=1, inplace=True)"
   ]
  },
  {
   "cell_type": "markdown",
   "metadata": {},
   "source": [
    "__Ordinal Features:__\n",
    "* __grade/emp_length__"
   ]
  },
  {
   "cell_type": "code",
   "execution_count": 11,
   "metadata": {},
   "outputs": [
    {
     "name": "stdout",
     "output_type": "stream",
     "text": [
      "['B' 'C' 'A' 'E' 'F' 'D' 'G']\n",
      "['10+ years' '< 1 year' '3 years' '8 years' '9 years' '4 years' '5 years'\n",
      " '1 year' '6 years' '2 years' '7 years' nan]\n"
     ]
    }
   ],
   "source": [
    "# Examine the ordinal features: grade, emp_length\n",
    "print(LC_data[\"grade\"].unique())\n",
    "print(LC_data[\"emp_length\"].unique())"
   ]
  },
  {
   "cell_type": "code",
   "execution_count": 12,
   "metadata": {},
   "outputs": [],
   "source": [
    "# Convert grade and emp_length values to numerical\n",
    "# Assume nan values for emp_length to be 0\n",
    "mapping_dict = {\"grade\": \n",
    "               {\"A\": 0, \"B\": 1, \"C\": 2, \"D\": 3, \"E\": 4, \"F\": 5, \"G\": 6}, \n",
    "               \"emp_length\": \n",
    "               {\"< 1 year\": 0, \"1 year\": 1, \"2 years\": 2, \"3 years\": 3, \"4 years\": 4, \"5 years\": 5,\n",
    "                \"6 years\": 6, \"7 years\": 7, \"8 years\": 8, \"9 years\": 9, \"10+ years\": 10, nan: 0}}\n",
    "\n",
    "LC_data = LC_data.replace(mapping_dict)"
   ]
  },
  {
   "cell_type": "code",
   "execution_count": 13,
   "metadata": {},
   "outputs": [
    {
     "data": {
      "text/html": [
       "<div>\n",
       "<style scoped>\n",
       "    .dataframe tbody tr th:only-of-type {\n",
       "        vertical-align: middle;\n",
       "    }\n",
       "\n",
       "    .dataframe tbody tr th {\n",
       "        vertical-align: top;\n",
       "    }\n",
       "\n",
       "    .dataframe thead th {\n",
       "        text-align: right;\n",
       "    }\n",
       "</style>\n",
       "<table border=\"1\" class=\"dataframe\">\n",
       "  <thead>\n",
       "    <tr style=\"text-align: right;\">\n",
       "      <th></th>\n",
       "      <th>grade</th>\n",
       "      <th>emp_length</th>\n",
       "    </tr>\n",
       "  </thead>\n",
       "  <tbody>\n",
       "    <tr>\n",
       "      <th>0</th>\n",
       "      <td>1</td>\n",
       "      <td>10</td>\n",
       "    </tr>\n",
       "    <tr>\n",
       "      <th>1</th>\n",
       "      <td>2</td>\n",
       "      <td>0</td>\n",
       "    </tr>\n",
       "    <tr>\n",
       "      <th>2</th>\n",
       "      <td>2</td>\n",
       "      <td>10</td>\n",
       "    </tr>\n",
       "    <tr>\n",
       "      <th>3</th>\n",
       "      <td>2</td>\n",
       "      <td>10</td>\n",
       "    </tr>\n",
       "    <tr>\n",
       "      <th>4</th>\n",
       "      <td>0</td>\n",
       "      <td>3</td>\n",
       "    </tr>\n",
       "  </tbody>\n",
       "</table>\n",
       "</div>"
      ],
      "text/plain": [
       "   grade  emp_length\n",
       "0      1          10\n",
       "1      2           0\n",
       "2      2          10\n",
       "3      2          10\n",
       "4      0           3"
      ]
     },
     "execution_count": 13,
     "metadata": {},
     "output_type": "execute_result"
    }
   ],
   "source": [
    "# Check grade and emp_length columns again\n",
    "LC_data[[\"grade\", \"emp_length\"]].head()"
   ]
  },
  {
   "cell_type": "markdown",
   "metadata": {},
   "source": [
    "### 2.3.2 Feature Correlations"
   ]
  },
  {
   "cell_type": "code",
   "execution_count": 14,
   "metadata": {},
   "outputs": [
    {
     "data": {
      "text/plain": [
       "Text(0.5, 1.0, 'Correlation Heatmap')"
      ]
     },
     "execution_count": 14,
     "metadata": {},
     "output_type": "execute_result"
    },
    {
     "data": {
      "image/png": "[encoded data removed]",
      "text/plain": [
       "<Figure size 720x576 with 2 Axes>"
      ]
     },
     "metadata": {
      "needs_background": "light"
     },
     "output_type": "display_data"
    }
   ],
   "source": [
    "# Visualize correlations using a heatmap\n",
    "plt.subplots(figsize=(10,8))\n",
    "ax = plt.axes()\n",
    "sns.heatmap(LC_data.corr(), xticklabels=True, yticklabels=True, ax=ax)\n",
    "ax.set_title(\"Correlation Heatmap\", fontsize=16)"
   ]
  },
  {
   "cell_type": "markdown",
   "metadata": {},
   "source": [
    "__Notable Correlations:__ \n",
    "\n",
    "__loan_amnt/installment__, __mths_since_last_delinq/delinq_2yrs__, __mths_since_last_delinq/mths_since_last_record__,\n",
    "__mths_since_last_record/pub_rec__, __mths_since_last_record/pub_rec_bankruptcies__, __open_acc/total_acc__,\n",
    "__pub_rec/pub_rec_bankruptcies__, __fico_range_avg/grade__, __fico_range_avg/revol_util__\n",
    "\n",
    "It is rather difficult to ascribe much significance to many of these correlations,\n",
    "since their high values are attributable to features which are intrinsically closely associated with each other."
   ]
  },
  {
   "cell_type": "markdown",
   "metadata": {},
   "source": [
    "#### 2.3.2.1 Loan Type Correlations"
   ]
  },
  {
   "cell_type": "code",
   "execution_count": 15,
   "metadata": {},
   "outputs": [
    {
     "name": "stdout",
     "output_type": "stream",
     "text": [
      "Positive Correlations\n",
      " open_acc          0.009852\n",
      "total_acc         0.022763\n",
      "annual_inc        0.041037\n",
      "fico_range_avg    0.129900\n",
      "loan_type         1.000000\n",
      "Name: loan_type, dtype: float64\n",
      "\n",
      "Negative Correlations\n",
      " grade                    -0.196132\n",
      "revol_util               -0.099481\n",
      "inq_last_6mths           -0.071420\n",
      "mths_since_last_record   -0.061872\n",
      "loan_amnt                -0.055406\n",
      "pub_rec                  -0.050853\n",
      "pub_rec_bankruptcies     -0.047914\n",
      "dti                      -0.043841\n",
      "installment              -0.026270\n",
      "delinq_2yrs              -0.020446\n",
      "emp_length               -0.006077\n",
      "revol_bal                -0.005872\n",
      "mths_since_last_delinq   -0.005172\n",
      "Name: loan_type, dtype: float64\n"
     ]
    }
   ],
   "source": [
    "# Display correlations with respect to loan_type\n",
    "loan_type_corr = LC_data.corr()[\"loan_type\"].sort_values()\n",
    "\n",
    "print(\"Positive Correlations\\n\", loan_type_corr[loan_type_corr > 0])\n",
    "print(\"\\nNegative Correlations\\n\", loan_type_corr[loan_type_corr < 0])"
   ]
  },
  {
   "cell_type": "markdown",
   "metadata": {},
   "source": [
    "#### 2.3.2.2 Debt to Income Ratio Correlations"
   ]
  },
  {
   "cell_type": "code",
   "execution_count": 16,
   "metadata": {},
   "outputs": [
    {
     "name": "stdout",
     "output_type": "stream",
     "text": [
      "Positive Correlations\n",
      " inq_last_6mths            0.001593\n",
      "pub_rec_bankruptcies      0.006000\n",
      "emp_length                0.052040\n",
      "installment               0.053444\n",
      "loan_amnt                 0.064965\n",
      "mths_since_last_delinq    0.067053\n",
      "grade                     0.095885\n",
      "mths_since_last_record    0.186400\n",
      "revol_bal                 0.228399\n",
      "total_acc                 0.229678\n",
      "revol_util                0.278057\n",
      "open_acc                  0.288225\n",
      "dti                       1.000000\n",
      "Name: dti, dtype: float64\n",
      "\n",
      "Negative Correlations\n",
      " fico_range_avg   -0.198778\n",
      "annual_inc       -0.122029\n",
      "loan_type        -0.043841\n",
      "delinq_2yrs      -0.033831\n",
      "pub_rec          -0.004413\n",
      "Name: dti, dtype: float64\n"
     ]
    }
   ],
   "source": [
    "# Display correlations with respect to dti\n",
    "dti_corr = LC_data.corr()['dti'].sort_values()\n",
    "\n",
    "print(\"Positive Correlations\\n\", dti_corr[dti_corr > 0])\n",
    "print(\"\\nNegative Correlations\\n\", dti_corr[dti_corr < 0])"
   ]
  },
  {
   "cell_type": "markdown",
   "metadata": {},
   "source": [
    "#### 2.3.2.3 Relationship between Term and Loan Amount"
   ]
  },
  {
   "cell_type": "code",
   "execution_count": 17,
   "metadata": {},
   "outputs": [
    {
     "data": {
      "text/plain": [
       "Text(0, 0.5, 'Loan Amount')"
      ]
     },
     "execution_count": 17,
     "metadata": {},
     "output_type": "execute_result"
    },
    {
     "data": {
      "image/png": "[encoded data removed]",
      "text/plain": [
       "<Figure size 648x432 with 1 Axes>"
      ]
     },
     "metadata": {
      "needs_background": "light"
     },
     "output_type": "display_data"
    }
   ],
   "source": [
    "# Visualize the relationship between term and loan_amnt\n",
    "fig = plt.figure(figsize=(9,6))\n",
    "sns.violinplot(x=\"loan_type\", y=\"loan_amnt\", data=LC_data, hue=\"term\", split=True)\n",
    "plt.title(\"Relationship between Term and Loan Amount\", fontsize=16)\n",
    "plt.xlabel(\"Loan Type\", fontsize=12)\n",
    "plt.ylabel(\"Loan Amount\", fontsize=12)"
   ]
  },
  {
   "cell_type": "markdown",
   "metadata": {},
   "source": [
    "Regardless of the loan type, the loan amount tends to be higher with longer term."
   ]
  },
  {
   "cell_type": "markdown",
   "metadata": {},
   "source": [
    "#### 2.3.2.4 Annual Income Correlations"
   ]
  },
  {
   "cell_type": "code",
   "execution_count": 18,
   "metadata": {},
   "outputs": [
    {
     "name": "stdout",
     "output_type": "stream",
     "text": [
      "Positive Correlations\n",
      " revol_util        0.017821\n",
      "delinq_2yrs       0.022435\n",
      "inq_last_6mths    0.035088\n",
      "loan_type         0.041037\n",
      "fico_range_avg    0.050360\n",
      "grade             0.053621\n",
      "emp_length        0.121384\n",
      "open_acc          0.157662\n",
      "total_acc         0.235289\n",
      "installment       0.269573\n",
      "loan_amnt         0.270511\n",
      "revol_bal         0.279101\n",
      "annual_inc        1.000000\n",
      "Name: annual_inc, dtype: float64\n",
      "\n",
      "Negative Correlations\n",
      " dti                      -0.122029\n",
      "mths_since_last_record   -0.031489\n",
      "pub_rec                  -0.018473\n",
      "pub_rec_bankruptcies     -0.016842\n",
      "mths_since_last_delinq   -0.007709\n",
      "Name: annual_inc, dtype: float64\n"
     ]
    }
   ],
   "source": [
    "# Correlations with respect to annual_inc\n",
    "income_corr = LC_data.corr()[\"annual_inc\"].sort_values()\n",
    "\n",
    "print(\"Positive Correlations\\n\", income_corr[income_corr > 0])\n",
    "print(\"\\nNegative Correlations\\n\", income_corr[income_corr < 0])"
   ]
  },
  {
   "cell_type": "markdown",
   "metadata": {},
   "source": [
    "#### 2.3.2.5 State-wide Loan Type Summary"
   ]
  },
  {
   "cell_type": "code",
   "execution_count": 19,
   "metadata": {},
   "outputs": [
    {
     "data": {
      "text/plain": [
       "Text(0.5, 1.0, 'Number of Bad Loans per State')"
      ]
     },
     "execution_count": 19,
     "metadata": {},
     "output_type": "execute_result"
    },
    {
     "data": {
      "image/png": "[encoded data removed]",
      "text/plain": [
       "<Figure size 864x864 with 1 Axes>"
      ]
     },
     "metadata": {
      "needs_background": "light"
     },
     "output_type": "display_data"
    }
   ],
   "source": [
    "# State-wide Bad Loans\n",
    "fig = plt.figure(figsize=(12,12))\n",
    "LC_data[LC_data[\"loan_type\"]==0].groupby(\"addr_state\")[\"loan_type\"].count().sort_values().plot(kind=\"barh\")\n",
    "plt.xlabel(\"Number of Loans\", fontsize=12)\n",
    "plt.ylabel(\"State\", fontsize=12)\n",
    "plt.title(\"Number of Bad Loans per State\", fontsize=16)"
   ]
  },
  {
   "cell_type": "code",
   "execution_count": 20,
   "metadata": {},
   "outputs": [
    {
     "data": {
      "text/plain": [
       "Text(0.5, 1.0, 'Number of Good Loans per State')"
      ]
     },
     "execution_count": 20,
     "metadata": {},
     "output_type": "execute_result"
    },
    {
     "data": {
      "image/png": "[encoded data removed]",
      "text/plain": [
       "<Figure size 864x864 with 1 Axes>"
      ]
     },
     "metadata": {
      "needs_background": "light"
     },
     "output_type": "display_data"
    }
   ],
   "source": [
    "# State-wide Good Loans\n",
    "fig = plt.figure(figsize=(12,12))\n",
    "LC_data[LC_data[\"loan_type\"]==1].groupby(\"addr_state\")[\"loan_type\"].count().sort_values().plot(kind=\"barh\")\n",
    "plt.xlabel(\"Number of Loans\", fontsize=12)\n",
    "plt.ylabel(\"State\", fontsize=12)\n",
    "plt.title(\"Number of Good Loans per State\", fontsize=16)"
   ]
  },
  {
   "cell_type": "markdown",
   "metadata": {},
   "source": [
    "It appears that the states with highest number of good loans and bad loans are mostly the same.\n",
    "\n",
    "Hence, the state cannot be considered as a useful feature for determining the loan type."
   ]
  },
  {
   "cell_type": "markdown",
   "metadata": {},
   "source": [
    "#### 2.3.2.6 Grade Correlations"
   ]
  },
  {
   "cell_type": "code",
   "execution_count": 21,
   "metadata": {},
   "outputs": [
    {
     "name": "stdout",
     "output_type": "stream",
     "text": [
      "Positive Correlations\n",
      " emp_length                0.011224\n",
      "open_acc                  0.011512\n",
      "annual_inc                0.053621\n",
      "pub_rec_bankruptcies      0.078640\n",
      "revol_bal                 0.091911\n",
      "pub_rec                   0.092898\n",
      "dti                       0.095885\n",
      "inq_last_6mths            0.116250\n",
      "mths_since_last_record    0.123759\n",
      "delinq_2yrs               0.163125\n",
      "installment               0.264973\n",
      "loan_amnt                 0.289515\n",
      "revol_util                0.444170\n",
      "grade                     1.000000\n",
      "Name: grade, dtype: float64\n",
      "\n",
      "Negative Correlations\n",
      " fico_range_avg           -0.677051\n",
      "loan_type                -0.196132\n",
      "mths_since_last_delinq   -0.077104\n",
      "total_acc                -0.038651\n",
      "Name: grade, dtype: float64\n"
     ]
    }
   ],
   "source": [
    "# Correlations with respect to grade\n",
    "grade_corr = LC_data.corr()['grade'].sort_values()\n",
    "\n",
    "print(\"Positive Correlations\\n\", grade_corr[grade_corr > 0])\n",
    "print(\"\\nNegative Correlations\\n\", grade_corr[grade_corr < 0])"
   ]
  },
  {
   "cell_type": "code",
   "execution_count": 22,
   "metadata": {},
   "outputs": [
    {
     "data": {
      "text/plain": [
       "<matplotlib.legend.Legend at 0x1db3b539670>"
      ]
     },
     "execution_count": 22,
     "metadata": {},
     "output_type": "execute_result"
    },
    {
     "data": {
      "image/png": "[encoded data removed]",
      "text/plain": [
       "<Figure size 648x432 with 1 Axes>"
      ]
     },
     "metadata": {
      "needs_background": "light"
     },
     "output_type": "display_data"
    }
   ],
   "source": [
    "# Visualize distribution of loan types by grade\n",
    "loans_by_grade = LC_data.groupby([\"grade\", \"loan_type\"]).size()\n",
    "loan_type = [\"Bad Loan\", \"Good Loan\"]\n",
    "\n",
    "fig, ax = plt.subplots(figsize=(9,6))\n",
    "cmap = plt.cm.coolwarm_r\n",
    "loans_by_grade.unstack().plot(kind=\"bar\", stacked=True, colormap=cmap, ax=ax, grid=False, edgecolor=\"black\")\n",
    "plt.title(\"Distribution of Loan Types by Grade\", fontsize=16)\n",
    "plt.xlabel(\"Grade\", fontsize=12)\n",
    "plt.ylabel(\"Number of Loans\", fontsize=12)\n",
    "ax.legend(loan_type)"
   ]
  },
  {
   "cell_type": "markdown",
   "metadata": {},
   "source": [
    "Bad loans appear to be relatively high among grade 1, 2, and 3.\n",
    "Ideally, the number of bad loans should be increasing with declining grade."
   ]
  },
  {
   "cell_type": "markdown",
   "metadata": {},
   "source": [
    "## 2.4 Data Preparation for Modeling"
   ]
  },
  {
   "cell_type": "markdown",
   "metadata": {},
   "source": [
    "### 2.4.1 Data Cleaning"
   ]
  },
  {
   "cell_type": "code",
   "execution_count": 23,
   "metadata": {},
   "outputs": [
    {
     "name": "stdout",
     "output_type": "stream",
     "text": [
      "<class 'pandas.core.frame.DataFrame'>\n",
      "RangeIndex: 39239 entries, 0 to 39238\n",
      "Data columns (total 25 columns):\n",
      " #   Column                  Non-Null Count  Dtype  \n",
      "---  ------                  --------------  -----  \n",
      " 0   loan_amnt               39239 non-null  float64\n",
      " 1   term                    39239 non-null  object \n",
      " 2   installment             39239 non-null  float64\n",
      " 3   grade                   39239 non-null  int64  \n",
      " 4   emp_length              39239 non-null  int64  \n",
      " 5   home_ownership          39239 non-null  object \n",
      " 6   annual_inc              39239 non-null  float64\n",
      " 7   verification_status     39239 non-null  object \n",
      " 8   loan_type               39239 non-null  int64  \n",
      " 9   purpose                 39239 non-null  object \n",
      " 10  addr_state              39239 non-null  object \n",
      " 11  dti                     39239 non-null  float64\n",
      " 12  delinq_2yrs             39239 non-null  float64\n",
      " 13  earliest_cr_line        39239 non-null  object \n",
      " 14  inq_last_6mths          39239 non-null  float64\n",
      " 15  mths_since_last_delinq  13887 non-null  float64\n",
      " 16  mths_since_last_record  2773 non-null   float64\n",
      " 17  open_acc                39239 non-null  float64\n",
      " 18  pub_rec                 39239 non-null  float64\n",
      " 19  revol_bal               39239 non-null  float64\n",
      " 20  revol_util              39189 non-null  float64\n",
      " 21  total_acc               39239 non-null  float64\n",
      " 22  last_credit_pull_d      39237 non-null  object \n",
      " 23  pub_rec_bankruptcies    38542 non-null  float64\n",
      " 24  fico_range_avg          39239 non-null  float64\n",
      "dtypes: float64(15), int64(3), object(7)\n",
      "memory usage: 7.5+ MB\n"
     ]
    }
   ],
   "source": [
    "# Summary of the data\n",
    "LC_data.info()"
   ]
  },
  {
   "cell_type": "code",
   "execution_count": 24,
   "metadata": {},
   "outputs": [
    {
     "data": {
      "text/plain": [
       "loan_amnt                     0\n",
       "term                          0\n",
       "installment                   0\n",
       "grade                         0\n",
       "emp_length                    0\n",
       "home_ownership                0\n",
       "annual_inc                    0\n",
       "verification_status           0\n",
       "loan_type                     0\n",
       "purpose                       0\n",
       "addr_state                    0\n",
       "dti                           0\n",
       "delinq_2yrs                   0\n",
       "earliest_cr_line              0\n",
       "inq_last_6mths                0\n",
       "mths_since_last_delinq    25352\n",
       "mths_since_last_record    36466\n",
       "open_acc                      0\n",
       "pub_rec                       0\n",
       "revol_bal                     0\n",
       "revol_util                   50\n",
       "total_acc                     0\n",
       "last_credit_pull_d            2\n",
       "pub_rec_bankruptcies        697\n",
       "fico_range_avg                0\n",
       "dtype: int64"
      ]
     },
     "execution_count": 24,
     "metadata": {},
     "output_type": "execute_result"
    }
   ],
   "source": [
    "# Check for the missing values\n",
    "LC_data.isnull().sum()"
   ]
  },
  {
   "cell_type": "markdown",
   "metadata": {},
   "source": [
    "__mths_since_last_delinq__, __mths_since_last_record__ will be dropped, as they contain too many missing values\n",
    "and have not displayed any significant correlations with other features."
   ]
  },
  {
   "cell_type": "code",
   "execution_count": 25,
   "metadata": {},
   "outputs": [],
   "source": [
    "# Drop mths_since_last_delinq, mths_since_last_record\n",
    "LC_data.drop([\"mths_since_last_delinq\", \"mths_since_last_record\"], axis=1, inplace=True)"
   ]
  },
  {
   "cell_type": "markdown",
   "metadata": {},
   "source": [
    "### 2.4.2 One-Hot Encoding for Nominal Features"
   ]
  },
  {
   "cell_type": "code",
   "execution_count": 26,
   "metadata": {},
   "outputs": [],
   "source": [
    "# Create dummy variables for nominal features: term, home_ownership, verification_status, purpose\n",
    "nominal_features = [\"term\", \"home_ownership\", \"verification_status\", \"purpose\"]\n",
    "dummies_df = pd.get_dummies(LC_data[nominal_features])\n",
    "LC_data = pd.concat([LC_data, dummies_df], axis=1)\n",
    "LC_data = LC_data.drop(nominal_features, axis=1)"
   ]
  },
  {
   "cell_type": "code",
   "execution_count": 27,
   "metadata": {},
   "outputs": [
    {
     "data": {
      "text/html": [
       "<div>\n",
       "<style scoped>\n",
       "    .dataframe tbody tr th:only-of-type {\n",
       "        vertical-align: middle;\n",
       "    }\n",
       "\n",
       "    .dataframe tbody tr th {\n",
       "        vertical-align: top;\n",
       "    }\n",
       "\n",
       "    .dataframe thead th {\n",
       "        text-align: right;\n",
       "    }\n",
       "</style>\n",
       "<table border=\"1\" class=\"dataframe\">\n",
       "  <thead>\n",
       "    <tr style=\"text-align: right;\">\n",
       "      <th></th>\n",
       "      <th>loan_amnt</th>\n",
       "      <th>installment</th>\n",
       "      <th>grade</th>\n",
       "      <th>emp_length</th>\n",
       "      <th>annual_inc</th>\n",
       "      <th>loan_type</th>\n",
       "      <th>addr_state</th>\n",
       "      <th>dti</th>\n",
       "      <th>delinq_2yrs</th>\n",
       "      <th>earliest_cr_line</th>\n",
       "      <th>inq_last_6mths</th>\n",
       "      <th>open_acc</th>\n",
       "      <th>pub_rec</th>\n",
       "      <th>revol_bal</th>\n",
       "      <th>revol_util</th>\n",
       "      <th>total_acc</th>\n",
       "      <th>last_credit_pull_d</th>\n",
       "      <th>pub_rec_bankruptcies</th>\n",
       "      <th>fico_range_avg</th>\n",
       "      <th>term_ 36 months</th>\n",
       "      <th>term_ 60 months</th>\n",
       "      <th>home_ownership_MORTGAGE</th>\n",
       "      <th>home_ownership_NONE</th>\n",
       "      <th>home_ownership_OTHER</th>\n",
       "      <th>home_ownership_OWN</th>\n",
       "      <th>home_ownership_RENT</th>\n",
       "      <th>verification_status_Not Verified</th>\n",
       "      <th>verification_status_Source Verified</th>\n",
       "      <th>verification_status_Verified</th>\n",
       "      <th>purpose_car</th>\n",
       "      <th>purpose_credit_card</th>\n",
       "      <th>purpose_debt_consolidation</th>\n",
       "      <th>purpose_educational</th>\n",
       "      <th>purpose_home_improvement</th>\n",
       "      <th>purpose_house</th>\n",
       "      <th>purpose_major_purchase</th>\n",
       "      <th>purpose_medical</th>\n",
       "      <th>purpose_moving</th>\n",
       "      <th>purpose_other</th>\n",
       "      <th>purpose_renewable_energy</th>\n",
       "      <th>purpose_small_business</th>\n",
       "      <th>purpose_vacation</th>\n",
       "      <th>purpose_wedding</th>\n",
       "    </tr>\n",
       "  </thead>\n",
       "  <tbody>\n",
       "    <tr>\n",
       "      <th>0</th>\n",
       "      <td>5000.0</td>\n",
       "      <td>162.87</td>\n",
       "      <td>1</td>\n",
       "      <td>10</td>\n",
       "      <td>24000.0</td>\n",
       "      <td>1</td>\n",
       "      <td>AZ</td>\n",
       "      <td>27.65</td>\n",
       "      <td>0.0</td>\n",
       "      <td>Jan-1985</td>\n",
       "      <td>1.0</td>\n",
       "      <td>3.0</td>\n",
       "      <td>0.0</td>\n",
       "      <td>13648.0</td>\n",
       "      <td>83.7</td>\n",
       "      <td>9.0</td>\n",
       "      <td>Sep-2016</td>\n",
       "      <td>0.0</td>\n",
       "      <td>737.0</td>\n",
       "      <td>1</td>\n",
       "      <td>0</td>\n",
       "      <td>0</td>\n",
       "      <td>0</td>\n",
       "      <td>0</td>\n",
       "      <td>0</td>\n",
       "      <td>1</td>\n",
       "      <td>0</td>\n",
       "      <td>0</td>\n",
       "      <td>1</td>\n",
       "      <td>0</td>\n",
       "      <td>1</td>\n",
       "      <td>0</td>\n",
       "      <td>0</td>\n",
       "      <td>0</td>\n",
       "      <td>0</td>\n",
       "      <td>0</td>\n",
       "      <td>0</td>\n",
       "      <td>0</td>\n",
       "      <td>0</td>\n",
       "      <td>0</td>\n",
       "      <td>0</td>\n",
       "      <td>0</td>\n",
       "      <td>0</td>\n",
       "    </tr>\n",
       "    <tr>\n",
       "      <th>1</th>\n",
       "      <td>2500.0</td>\n",
       "      <td>59.83</td>\n",
       "      <td>2</td>\n",
       "      <td>0</td>\n",
       "      <td>30000.0</td>\n",
       "      <td>0</td>\n",
       "      <td>GA</td>\n",
       "      <td>1.00</td>\n",
       "      <td>0.0</td>\n",
       "      <td>Apr-1999</td>\n",
       "      <td>5.0</td>\n",
       "      <td>3.0</td>\n",
       "      <td>0.0</td>\n",
       "      <td>1687.0</td>\n",
       "      <td>9.4</td>\n",
       "      <td>4.0</td>\n",
       "      <td>Sep-2016</td>\n",
       "      <td>0.0</td>\n",
       "      <td>742.0</td>\n",
       "      <td>0</td>\n",
       "      <td>1</td>\n",
       "      <td>0</td>\n",
       "      <td>0</td>\n",
       "      <td>0</td>\n",
       "      <td>0</td>\n",
       "      <td>1</td>\n",
       "      <td>0</td>\n",
       "      <td>1</td>\n",
       "      <td>0</td>\n",
       "      <td>1</td>\n",
       "      <td>0</td>\n",
       "      <td>0</td>\n",
       "      <td>0</td>\n",
       "      <td>0</td>\n",
       "      <td>0</td>\n",
       "      <td>0</td>\n",
       "      <td>0</td>\n",
       "      <td>0</td>\n",
       "      <td>0</td>\n",
       "      <td>0</td>\n",
       "      <td>0</td>\n",
       "      <td>0</td>\n",
       "      <td>0</td>\n",
       "    </tr>\n",
       "    <tr>\n",
       "      <th>2</th>\n",
       "      <td>2400.0</td>\n",
       "      <td>84.33</td>\n",
       "      <td>2</td>\n",
       "      <td>10</td>\n",
       "      <td>12252.0</td>\n",
       "      <td>1</td>\n",
       "      <td>IL</td>\n",
       "      <td>8.72</td>\n",
       "      <td>0.0</td>\n",
       "      <td>Nov-2001</td>\n",
       "      <td>2.0</td>\n",
       "      <td>2.0</td>\n",
       "      <td>0.0</td>\n",
       "      <td>2956.0</td>\n",
       "      <td>98.5</td>\n",
       "      <td>10.0</td>\n",
       "      <td>Sep-2016</td>\n",
       "      <td>0.0</td>\n",
       "      <td>737.0</td>\n",
       "      <td>1</td>\n",
       "      <td>0</td>\n",
       "      <td>0</td>\n",
       "      <td>0</td>\n",
       "      <td>0</td>\n",
       "      <td>0</td>\n",
       "      <td>1</td>\n",
       "      <td>1</td>\n",
       "      <td>0</td>\n",
       "      <td>0</td>\n",
       "      <td>0</td>\n",
       "      <td>0</td>\n",
       "      <td>0</td>\n",
       "      <td>0</td>\n",
       "      <td>0</td>\n",
       "      <td>0</td>\n",
       "      <td>0</td>\n",
       "      <td>0</td>\n",
       "      <td>0</td>\n",
       "      <td>0</td>\n",
       "      <td>0</td>\n",
       "      <td>1</td>\n",
       "      <td>0</td>\n",
       "      <td>0</td>\n",
       "    </tr>\n",
       "    <tr>\n",
       "      <th>3</th>\n",
       "      <td>10000.0</td>\n",
       "      <td>339.31</td>\n",
       "      <td>2</td>\n",
       "      <td>10</td>\n",
       "      <td>49200.0</td>\n",
       "      <td>1</td>\n",
       "      <td>CA</td>\n",
       "      <td>20.00</td>\n",
       "      <td>0.0</td>\n",
       "      <td>Feb-1996</td>\n",
       "      <td>1.0</td>\n",
       "      <td>10.0</td>\n",
       "      <td>0.0</td>\n",
       "      <td>5598.0</td>\n",
       "      <td>21.0</td>\n",
       "      <td>37.0</td>\n",
       "      <td>Apr-2016</td>\n",
       "      <td>0.0</td>\n",
       "      <td>692.0</td>\n",
       "      <td>1</td>\n",
       "      <td>0</td>\n",
       "      <td>0</td>\n",
       "      <td>0</td>\n",
       "      <td>0</td>\n",
       "      <td>0</td>\n",
       "      <td>1</td>\n",
       "      <td>0</td>\n",
       "      <td>1</td>\n",
       "      <td>0</td>\n",
       "      <td>0</td>\n",
       "      <td>0</td>\n",
       "      <td>0</td>\n",
       "      <td>0</td>\n",
       "      <td>0</td>\n",
       "      <td>0</td>\n",
       "      <td>0</td>\n",
       "      <td>0</td>\n",
       "      <td>0</td>\n",
       "      <td>1</td>\n",
       "      <td>0</td>\n",
       "      <td>0</td>\n",
       "      <td>0</td>\n",
       "      <td>0</td>\n",
       "    </tr>\n",
       "    <tr>\n",
       "      <th>4</th>\n",
       "      <td>5000.0</td>\n",
       "      <td>156.46</td>\n",
       "      <td>0</td>\n",
       "      <td>3</td>\n",
       "      <td>36000.0</td>\n",
       "      <td>1</td>\n",
       "      <td>AZ</td>\n",
       "      <td>11.20</td>\n",
       "      <td>0.0</td>\n",
       "      <td>Nov-2004</td>\n",
       "      <td>3.0</td>\n",
       "      <td>9.0</td>\n",
       "      <td>0.0</td>\n",
       "      <td>7963.0</td>\n",
       "      <td>28.3</td>\n",
       "      <td>12.0</td>\n",
       "      <td>Jan-2016</td>\n",
       "      <td>0.0</td>\n",
       "      <td>732.0</td>\n",
       "      <td>1</td>\n",
       "      <td>0</td>\n",
       "      <td>0</td>\n",
       "      <td>0</td>\n",
       "      <td>0</td>\n",
       "      <td>0</td>\n",
       "      <td>1</td>\n",
       "      <td>0</td>\n",
       "      <td>1</td>\n",
       "      <td>0</td>\n",
       "      <td>0</td>\n",
       "      <td>0</td>\n",
       "      <td>0</td>\n",
       "      <td>0</td>\n",
       "      <td>0</td>\n",
       "      <td>0</td>\n",
       "      <td>0</td>\n",
       "      <td>0</td>\n",
       "      <td>0</td>\n",
       "      <td>0</td>\n",
       "      <td>0</td>\n",
       "      <td>0</td>\n",
       "      <td>0</td>\n",
       "      <td>1</td>\n",
       "    </tr>\n",
       "  </tbody>\n",
       "</table>\n",
       "</div>"
      ],
      "text/plain": [
       "   loan_amnt  installment  grade  emp_length  annual_inc  loan_type  \\\n",
       "0     5000.0       162.87      1          10     24000.0          1   \n",
       "1     2500.0        59.83      2           0     30000.0          0   \n",
       "2     2400.0        84.33      2          10     12252.0          1   \n",
       "3    10000.0       339.31      2          10     49200.0          1   \n",
       "4     5000.0       156.46      0           3     36000.0          1   \n",
       "\n",
       "  addr_state    dti  delinq_2yrs earliest_cr_line  inq_last_6mths  open_acc  \\\n",
       "0         AZ  27.65          0.0         Jan-1985             1.0       3.0   \n",
       "1         GA   1.00          0.0         Apr-1999             5.0       3.0   \n",
       "2         IL   8.72          0.0         Nov-2001             2.0       2.0   \n",
       "3         CA  20.00          0.0         Feb-1996             1.0      10.0   \n",
       "4         AZ  11.20          0.0         Nov-2004             3.0       9.0   \n",
       "\n",
       "   pub_rec  revol_bal  revol_util  total_acc last_credit_pull_d  \\\n",
       "0      0.0    13648.0        83.7        9.0           Sep-2016   \n",
       "1      0.0     1687.0         9.4        4.0           Sep-2016   \n",
       "2      0.0     2956.0        98.5       10.0           Sep-2016   \n",
       "3      0.0     5598.0        21.0       37.0           Apr-2016   \n",
       "4      0.0     7963.0        28.3       12.0           Jan-2016   \n",
       "\n",
       "   pub_rec_bankruptcies  fico_range_avg  term_ 36 months  term_ 60 months  \\\n",
       "0                   0.0           737.0                1                0   \n",
       "1                   0.0           742.0                0                1   \n",
       "2                   0.0           737.0                1                0   \n",
       "3                   0.0           692.0                1                0   \n",
       "4                   0.0           732.0                1                0   \n",
       "\n",
       "   home_ownership_MORTGAGE  home_ownership_NONE  home_ownership_OTHER  \\\n",
       "0                        0                    0                     0   \n",
       "1                        0                    0                     0   \n",
       "2                        0                    0                     0   \n",
       "3                        0                    0                     0   \n",
       "4                        0                    0                     0   \n",
       "\n",
       "   home_ownership_OWN  home_ownership_RENT  verification_status_Not Verified  \\\n",
       "0                   0                    1                                 0   \n",
       "1                   0                    1                                 0   \n",
       "2                   0                    1                                 1   \n",
       "3                   0                    1                                 0   \n",
       "4                   0                    1                                 0   \n",
       "\n",
       "   verification_status_Source Verified  verification_status_Verified  \\\n",
       "0                                    0                             1   \n",
       "1                                    1                             0   \n",
       "2                                    0                             0   \n",
       "3                                    1                             0   \n",
       "4                                    1                             0   \n",
       "\n",
       "   purpose_car  purpose_credit_card  purpose_debt_consolidation  \\\n",
       "0            0                    1                           0   \n",
       "1            1                    0                           0   \n",
       "2            0                    0                           0   \n",
       "3            0                    0                           0   \n",
       "4            0                    0                           0   \n",
       "\n",
       "   purpose_educational  purpose_home_improvement  purpose_house  \\\n",
       "0                    0                         0              0   \n",
       "1                    0                         0              0   \n",
       "2                    0                         0              0   \n",
       "3                    0                         0              0   \n",
       "4                    0                         0              0   \n",
       "\n",
       "   purpose_major_purchase  purpose_medical  purpose_moving  purpose_other  \\\n",
       "0                       0                0               0              0   \n",
       "1                       0                0               0              0   \n",
       "2                       0                0               0              0   \n",
       "3                       0                0               0              1   \n",
       "4                       0                0               0              0   \n",
       "\n",
       "   purpose_renewable_energy  purpose_small_business  purpose_vacation  \\\n",
       "0                         0                       0                 0   \n",
       "1                         0                       0                 0   \n",
       "2                         0                       1                 0   \n",
       "3                         0                       0                 0   \n",
       "4                         0                       0                 0   \n",
       "\n",
       "   purpose_wedding  \n",
       "0                0  \n",
       "1                0  \n",
       "2                0  \n",
       "3                0  \n",
       "4                1  "
      ]
     },
     "execution_count": 27,
     "metadata": {},
     "output_type": "execute_result"
    }
   ],
   "source": [
    "# Check the first 5 entries of the modified data frame\n",
    "LC_data.head()"
   ]
  },
  {
   "cell_type": "code",
   "execution_count": 28,
   "metadata": {},
   "outputs": [
    {
     "name": "stdout",
     "output_type": "stream",
     "text": [
      "<class 'pandas.core.frame.DataFrame'>\n",
      "RangeIndex: 39239 entries, 0 to 39238\n",
      "Data columns (total 43 columns):\n",
      " #   Column                               Non-Null Count  Dtype  \n",
      "---  ------                               --------------  -----  \n",
      " 0   loan_amnt                            39239 non-null  float64\n",
      " 1   installment                          39239 non-null  float64\n",
      " 2   grade                                39239 non-null  int64  \n",
      " 3   emp_length                           39239 non-null  int64  \n",
      " 4   annual_inc                           39239 non-null  float64\n",
      " 5   loan_type                            39239 non-null  int64  \n",
      " 6   addr_state                           39239 non-null  object \n",
      " 7   dti                                  39239 non-null  float64\n",
      " 8   delinq_2yrs                          39239 non-null  float64\n",
      " 9   earliest_cr_line                     39239 non-null  object \n",
      " 10  inq_last_6mths                       39239 non-null  float64\n",
      " 11  open_acc                             39239 non-null  float64\n",
      " 12  pub_rec                              39239 non-null  float64\n",
      " 13  revol_bal                            39239 non-null  float64\n",
      " 14  revol_util                           39189 non-null  float64\n",
      " 15  total_acc                            39239 non-null  float64\n",
      " 16  last_credit_pull_d                   39237 non-null  object \n",
      " 17  pub_rec_bankruptcies                 38542 non-null  float64\n",
      " 18  fico_range_avg                       39239 non-null  float64\n",
      " 19  term_ 36 months                      39239 non-null  uint8  \n",
      " 20  term_ 60 months                      39239 non-null  uint8  \n",
      " 21  home_ownership_MORTGAGE              39239 non-null  uint8  \n",
      " 22  home_ownership_NONE                  39239 non-null  uint8  \n",
      " 23  home_ownership_OTHER                 39239 non-null  uint8  \n",
      " 24  home_ownership_OWN                   39239 non-null  uint8  \n",
      " 25  home_ownership_RENT                  39239 non-null  uint8  \n",
      " 26  verification_status_Not Verified     39239 non-null  uint8  \n",
      " 27  verification_status_Source Verified  39239 non-null  uint8  \n",
      " 28  verification_status_Verified         39239 non-null  uint8  \n",
      " 29  purpose_car                          39239 non-null  uint8  \n",
      " 30  purpose_credit_card                  39239 non-null  uint8  \n",
      " 31  purpose_debt_consolidation           39239 non-null  uint8  \n",
      " 32  purpose_educational                  39239 non-null  uint8  \n",
      " 33  purpose_home_improvement             39239 non-null  uint8  \n",
      " 34  purpose_house                        39239 non-null  uint8  \n",
      " 35  purpose_major_purchase               39239 non-null  uint8  \n",
      " 36  purpose_medical                      39239 non-null  uint8  \n",
      " 37  purpose_moving                       39239 non-null  uint8  \n",
      " 38  purpose_other                        39239 non-null  uint8  \n",
      " 39  purpose_renewable_energy             39239 non-null  uint8  \n",
      " 40  purpose_small_business               39239 non-null  uint8  \n",
      " 41  purpose_vacation                     39239 non-null  uint8  \n",
      " 42  purpose_wedding                      39239 non-null  uint8  \n",
      "dtypes: float64(13), int64(3), object(3), uint8(24)\n",
      "memory usage: 6.6+ MB\n"
     ]
    }
   ],
   "source": [
    "# Summary of the modified data frame\n",
    "LC_data.info()"
   ]
  },
  {
   "cell_type": "markdown",
   "metadata": {},
   "source": [
    "## 2.4 Save Data"
   ]
  },
  {
   "cell_type": "code",
   "execution_count": 29,
   "metadata": {},
   "outputs": [],
   "source": [
    "data_path = r\"C:\\Users\\lastr\\Desktop\\GitHub\\Lending_Club_Capstone\\data\"\n",
    "data_path_lending_club_loans = os.path.join(data_path, \"lending_club_loans_EDA.csv\")\n",
    "\n",
    "if not os.path.exists(data_path_lending_club_loans):\n",
    "    LC_data.to_csv(data_path_lending_club_loans, index=False)"
   ]
  }
 ],
 "metadata": {
  "kernelspec": {
   "display_name": "Python 3",
   "language": "python",
   "name": "python3"
  },
  "language_info": {
   "codemirror_mode": {
    "name": "ipython",
    "version": 3
   },
   "file_extension": ".py",
   "mimetype": "text/x-python",
   "name": "python",
   "nbconvert_exporter": "python",
   "pygments_lexer": "ipython3",
   "version": "3.8.5"
  }
 },
 "nbformat": 4,
 "nbformat_minor": 4
}
